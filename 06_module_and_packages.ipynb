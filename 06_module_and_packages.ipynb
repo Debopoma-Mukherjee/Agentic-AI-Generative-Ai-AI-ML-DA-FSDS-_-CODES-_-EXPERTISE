{
 "cells": [
  {
   "cell_type": "markdown",
   "id": "d018c8fd-6577-4acd-9238-12163308c883",
   "metadata": {},
   "source": [
    "# Function always ends with ()\n",
    "* ## family() --this family fn with no argument\n",
    "* ## family1(d,m)--family1 with 2 arguments or parameters\n",
    "* ## family2(d,m,s,d)--family2 with 4 arguments or parameters"
   ]
  },
  {
   "cell_type": "markdown",
   "id": "4c2983f5-545c-4637-a40e-0cac69bd31ce",
   "metadata": {},
   "source": [
    "# fun() are of two types\n",
    "## 1)inbuilt:len(),id(),type() \n",
    "## 2)user defined"
   ]
  },
  {
   "cell_type": "markdown",
   "id": "d74c4ac9-08ee-435b-bdda-525308cb3847",
   "metadata": {},
   "source": [
    "# Package=library\n",
    "* ## collection of module\n",
    "# module == collection of function\n",
    "# function == collection of statement\n",
    "* ### package-- numpy,pandas,matplotlib etc\n",
    "\n",
    "                "
   ]
  },
  {
   "cell_type": "markdown",
   "id": "bf16e9d0-3b7f-4dee-ac3b-b2d9e0a43211",
   "metadata": {},
   "source": [
    "# In Python there is no concept called constant.Only variable is there."
   ]
  },
  {
   "cell_type": "markdown",
   "id": "3e13e5a8-278a-49a4-901d-26bfb1f0a9a1",
   "metadata": {},
   "source": [
    "# Swap two variables in python\n",
    "## 1) Using a third variable"
   ]
  },
  {
   "cell_type": "code",
   "execution_count": 7,
   "id": "04664633-6a35-4f31-a78c-4e2436daaf57",
   "metadata": {},
   "outputs": [
    {
     "name": "stdout",
     "output_type": "stream",
     "text": [
      "8\n",
      "7\n"
     ]
    }
   ],
   "source": [
    "a1=7\n",
    "b1=8\n",
    "temp=a1\n",
    "a1=b1\n",
    "b1=temp\n",
    "print(a1)\n",
    "print(b1)"
   ]
  },
  {
   "cell_type": "markdown",
   "id": "32ca1727-c816-4bec-aae7-d3dde16d82b3",
   "metadata": {},
   "source": [
    "## 2) W/O third variable\n"
   ]
  },
  {
   "cell_type": "code",
   "execution_count": 12,
   "id": "23b83973-c30f-4d45-8abb-0f9535e2710e",
   "metadata": {},
   "outputs": [
    {
     "name": "stdout",
     "output_type": "stream",
     "text": [
      "8\n",
      "7\n"
     ]
    }
   ],
   "source": [
    "a1=7\n",
    "b1=8\n",
    "a1,b1=b1,a1\n",
    "print(a1)\n",
    "print(b1)"
   ]
  },
  {
   "cell_type": "markdown",
   "id": "4c5b0549-d7bc-43f6-bee5-758505bed29d",
   "metadata": {},
   "source": [
    "# Math module"
   ]
  },
  {
   "cell_type": "code",
   "execution_count": 13,
   "id": "c4b4a6a1-5758-4f5d-97fd-ee814fa95102",
   "metadata": {},
   "outputs": [],
   "source": [
    "import math # math is a module"
   ]
  },
  {
   "cell_type": "code",
   "execution_count": 15,
   "id": "57a6e3db-dfea-4a13-a1d2-2081b6cf0123",
   "metadata": {},
   "outputs": [],
   "source": [
    "#help(math)"
   ]
  },
  {
   "cell_type": "code",
   "execution_count": 16,
   "id": "e094c925-5353-4e97-9d83-d18bb456c41f",
   "metadata": {},
   "outputs": [],
   "source": [
    "x1=math.sqrt(25)"
   ]
  },
  {
   "cell_type": "code",
   "execution_count": 17,
   "id": "6bd13510-4b19-45de-a068-6b1b72e643e9",
   "metadata": {},
   "outputs": [
    {
     "data": {
      "text/plain": [
       "5.0"
      ]
     },
     "execution_count": 17,
     "metadata": {},
     "output_type": "execute_result"
    }
   ],
   "source": [
    "x1"
   ]
  },
  {
   "cell_type": "code",
   "execution_count": 18,
   "id": "15750844-ca1b-47dc-a404-113fe2050a09",
   "metadata": {},
   "outputs": [
    {
     "name": "stdout",
     "output_type": "stream",
     "text": [
      "2\n"
     ]
    }
   ],
   "source": [
    "print(math.floor(2.9))"
   ]
  },
  {
   "cell_type": "code",
   "execution_count": 19,
   "id": "bfa4d405-e739-49ba-bf17-8f868568bed6",
   "metadata": {},
   "outputs": [
    {
     "name": "stdout",
     "output_type": "stream",
     "text": [
      "3\n"
     ]
    }
   ],
   "source": [
    "print(math.ceil(2.9))"
   ]
  },
  {
   "cell_type": "code",
   "execution_count": 20,
   "id": "79700fbd-aa16-4465-888b-636006b238aa",
   "metadata": {},
   "outputs": [
    {
     "name": "stdout",
     "output_type": "stream",
     "text": [
      "9.0\n"
     ]
    }
   ],
   "source": [
    "print(math.pow(3,2))"
   ]
  },
  {
   "cell_type": "code",
   "execution_count": 21,
   "id": "faaea4f2-8b83-4a2d-b3d7-3229acafa930",
   "metadata": {},
   "outputs": [
    {
     "name": "stdout",
     "output_type": "stream",
     "text": [
      "3.141592653589793\n"
     ]
    }
   ],
   "source": [
    "print(math.pi)"
   ]
  },
  {
   "cell_type": "code",
   "execution_count": 22,
   "id": "3f78b9e3-3e92-49f9-a427-a4e301b181f2",
   "metadata": {},
   "outputs": [],
   "source": [
    "import math as m"
   ]
  },
  {
   "cell_type": "code",
   "execution_count": 23,
   "id": "effc3c49-fd38-457d-ad27-3c9d412b61e3",
   "metadata": {},
   "outputs": [
    {
     "name": "stdout",
     "output_type": "stream",
     "text": [
      "6.0\n"
     ]
    }
   ],
   "source": [
    "print(m.sqrt(36))"
   ]
  },
  {
   "cell_type": "code",
   "execution_count": 24,
   "id": "b0f584d4-d53d-433f-a64d-a079bd559db2",
   "metadata": {},
   "outputs": [
    {
     "data": {
      "text/plain": [
       "8.0"
      ]
     },
     "execution_count": 24,
     "metadata": {},
     "output_type": "execute_result"
    }
   ],
   "source": [
    "from math import sqrt,pow\n",
    "pow(2,3)"
   ]
  },
  {
   "cell_type": "code",
   "execution_count": 26,
   "id": "ae420732-01d2-477f-805f-1ec94c8efa65",
   "metadata": {},
   "outputs": [
    {
     "data": {
      "text/plain": [
       "8"
      ]
     },
     "execution_count": 26,
     "metadata": {},
     "output_type": "execute_result"
    }
   ],
   "source": [
    "round(pow(2,3)) #removes decimal part"
   ]
  },
  {
   "cell_type": "markdown",
   "id": "43d7afde-2a62-440c-ba46-a837675817ab",
   "metadata": {},
   "source": [
    "# Run python code using CLI\n",
    "## 1)Open the text file\n",
    "## 2)Write few line code and save to .py  file\n",
    "## 3)Open cmd -cd desktop--python test.py\n",
    "## 4)See your result"
   ]
  },
  {
   "cell_type": "code",
   "execution_count": null,
   "id": "6586d23f-3463-44b9-96ca-3772c67e557d",
   "metadata": {},
   "outputs": [],
   "source": []
  }
 ],
 "metadata": {
  "kernelspec": {
   "display_name": "Python 3 (ipykernel)",
   "language": "python",
   "name": "python3"
  },
  "language_info": {
   "codemirror_mode": {
    "name": "ipython",
    "version": 3
   },
   "file_extension": ".py",
   "mimetype": "text/x-python",
   "name": "python",
   "nbconvert_exporter": "python",
   "pygments_lexer": "ipython3",
   "version": "3.13.5"
  }
 },
 "nbformat": 4,
 "nbformat_minor": 5
}
