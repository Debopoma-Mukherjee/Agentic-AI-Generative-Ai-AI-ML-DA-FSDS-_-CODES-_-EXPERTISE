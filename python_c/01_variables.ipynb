{
 "cells": [
  {
   "cell_type": "markdown",
   "id": "03bc11a6-2f59-40d4-90d1-16a3e5273c32",
   "metadata": {},
   "source": [
    "# Static vs Dynamic\n",
    "### Python is a dynamic programming language"
   ]
  },
  {
   "cell_type": "code",
   "execution_count": 4,
   "id": "f5dbcebc-9331-4208-b7d9-3de17a7ac006",
   "metadata": {},
   "outputs": [
    {
     "data": {
      "text/plain": [
       "int"
      ]
     },
     "execution_count": 4,
     "metadata": {},
     "output_type": "execute_result"
    }
   ],
   "source": [
    "a=5\n",
    "type(a)"
   ]
  },
  {
   "cell_type": "code",
   "execution_count": 3,
   "id": "3e475b35-0e91-46d2-8849-6a729d3d3921",
   "metadata": {},
   "outputs": [
    {
     "data": {
      "text/plain": [
       "float"
      ]
     },
     "execution_count": 3,
     "metadata": {},
     "output_type": "execute_result"
    }
   ],
   "source": [
    "a=5.0\n",
    "type(a)"
   ]
  },
  {
   "cell_type": "markdown",
   "id": "4fd418eb-eb79-400b-90a8-5f844d8140ed",
   "metadata": {},
   "source": [
    "# To check the version of python"
   ]
  },
  {
   "cell_type": "code",
   "execution_count": 5,
   "id": "3e4ee2a9-ebc2-49a5-b494-51d77f6bd05b",
   "metadata": {},
   "outputs": [
    {
     "data": {
      "text/plain": [
       "'3.13.5 | packaged by Anaconda, Inc. | (main, Jun 12 2025, 16:37:03) [MSC v.1929 64 bit (AMD64)]'"
      ]
     },
     "execution_count": 5,
     "metadata": {},
     "output_type": "execute_result"
    }
   ],
   "source": [
    "import sys\n",
    "sys.version"
   ]
  },
  {
   "cell_type": "markdown",
   "id": "681b407c-5a0b-4b84-8210-acba342b2ba3",
   "metadata": {},
   "source": [
    "# Jupyter notebook extension is .ipynb"
   ]
  },
  {
   "cell_type": "markdown",
   "id": "e368339d-68ce-4b96-bb6b-eec269916d25",
   "metadata": {},
   "source": [
    "# Python variable =identifier=object\n",
    "# syntax(variable=value)"
   ]
  },
  {
   "cell_type": "code",
   "execution_count": 7,
   "id": "97e06bbc-88d0-4dbf-a576-c2da4b4bab4f",
   "metadata": {},
   "outputs": [
    {
     "data": {
      "text/plain": [
       "5"
      ]
     },
     "execution_count": 7,
     "metadata": {},
     "output_type": "execute_result"
    }
   ],
   "source": [
    "a=5 #a-variable(or identifier|object)\n",
    "    #5-value(or datatype)\n",
    "a"
   ]
  },
  {
   "cell_type": "markdown",
   "id": "4f325d84-2e7e-4f56-8161-d5097481c4a2",
   "metadata": {},
   "source": [
    "# Rules to declare python variable\n"
   ]
  },
  {
   "cell_type": "code",
   "execution_count": 10,
   "id": "087c5761-af19-4c96-a968-76c5dc253d01",
   "metadata": {},
   "outputs": [
    {
     "ename": "NameError",
     "evalue": "name 'VAR' is not defined",
     "output_type": "error",
     "traceback": [
      "\u001b[31m---------------------------------------------------------------------------\u001b[39m",
      "\u001b[31mNameError\u001b[39m                                 Traceback (most recent call last)",
      "\u001b[36mCell\u001b[39m\u001b[36m \u001b[39m\u001b[32mIn[10]\u001b[39m\u001b[32m, line 3\u001b[39m\n\u001b[32m      1\u001b[39m \u001b[38;5;66;03m#python variable is case sensitive\u001b[39;00m\n\u001b[32m      2\u001b[39m var=\u001b[32m8\u001b[39m\n\u001b[32m----> \u001b[39m\u001b[32m3\u001b[39m \u001b[43mVAR\u001b[49m\n\u001b[32m      4\u001b[39m var\n",
      "\u001b[31mNameError\u001b[39m: name 'VAR' is not defined"
     ]
    }
   ],
   "source": [
    "#python variable is case sensitive\n",
    "var=8\n",
    "VAR\n",
    "var"
   ]
  },
  {
   "cell_type": "code",
   "execution_count": 13,
   "id": "cd826738-7043-4edb-8852-b0e010ca278f",
   "metadata": {},
   "outputs": [
    {
     "ename": "SyntaxError",
     "evalue": "invalid syntax (2932589967.py, line 3)",
     "output_type": "error",
     "traceback": [
      "  \u001b[36mCell\u001b[39m\u001b[36m \u001b[39m\u001b[32mIn[13]\u001b[39m\u001b[32m, line 3\u001b[39m\n\u001b[31m    \u001b[39m\u001b[31mv@\u001b[39m\n      ^\n\u001b[31mSyntaxError\u001b[39m\u001b[31m:\u001b[39m invalid syntax\n"
     ]
    }
   ],
   "source": [
    "# special symbols not allowed except for _\n",
    "v@=16\n",
    "v@"
   ]
  },
  {
   "cell_type": "code",
   "execution_count": 14,
   "id": "33be8460-6e4b-4f54-b302-2b011ea4b3a0",
   "metadata": {},
   "outputs": [
    {
     "data": {
      "text/plain": [
       "20"
      ]
     },
     "execution_count": 14,
     "metadata": {},
     "output_type": "execute_result"
    }
   ],
   "source": [
    "v_=20\n",
    "v_"
   ]
  },
  {
   "cell_type": "code",
   "execution_count": 16,
   "id": "84e89d35-4597-44aa-8733-91bad9080cc9",
   "metadata": {},
   "outputs": [
    {
     "ename": "SyntaxError",
     "evalue": "invalid decimal literal (2351087070.py, line 2)",
     "output_type": "error",
     "traceback": [
      "  \u001b[36mCell\u001b[39m\u001b[36m \u001b[39m\u001b[32mIn[16]\u001b[39m\u001b[32m, line 2\u001b[39m\n\u001b[31m    \u001b[39m\u001b[31m1var=25\u001b[39m\n    ^\n\u001b[31mSyntaxError\u001b[39m\u001b[31m:\u001b[39m invalid decimal literal\n"
     ]
    }
   ],
   "source": [
    "#variables does not start with digit\n",
    "1var=25\n",
    "1var"
   ]
  },
  {
   "cell_type": "code",
   "execution_count": 17,
   "id": "9d3a0320-ed5f-4105-8bb9-c52375ff441a",
   "metadata": {},
   "outputs": [
    {
     "data": {
      "text/plain": [
       "8"
      ]
     },
     "execution_count": 17,
     "metadata": {},
     "output_type": "execute_result"
    }
   ],
   "source": [
    "# variables can end with number\n",
    "var1=8\n",
    "var1"
   ]
  },
  {
   "cell_type": "code",
   "execution_count": 18,
   "id": "3ecb8872-0724-4e3c-a36f-0cdd1e82e8cc",
   "metadata": {},
   "outputs": [
    {
     "ename": "SyntaxError",
     "evalue": "cannot assign to literal here. Maybe you meant '==' instead of '='? (2785366911.py, line 1)",
     "output_type": "error",
     "traceback": [
      "  \u001b[36mCell\u001b[39m\u001b[36m \u001b[39m\u001b[32mIn[18]\u001b[39m\u001b[32m, line 1\u001b[39m\n\u001b[31m    \u001b[39m\u001b[31m'1var'=9\u001b[39m\n    ^\n\u001b[31mSyntaxError\u001b[39m\u001b[31m:\u001b[39m cannot assign to literal here. Maybe you meant '==' instead of '='?\n"
     ]
    }
   ],
   "source": [
    "'1var'=9"
   ]
  },
  {
   "cell_type": "code",
   "execution_count": 23,
   "id": "b0278672-5836-4827-be7e-e2f88f6cefd0",
   "metadata": {},
   "outputs": [
    {
     "name": "stdout",
     "output_type": "stream",
     "text": [
      "['False', 'None', 'True', 'and', 'as', 'assert', 'async', 'await', 'break', 'class', 'continue', 'def', 'del', 'elif', 'else', 'except', 'finally', 'for', 'from', 'global', 'if', 'import', 'in', 'is', 'lambda', 'nonlocal', 'not', 'or', 'pass', 'raise', 'return', 'try', 'while', 'with', 'yield']\n"
     ]
    },
    {
     "data": {
      "text/plain": [
       "35"
      ]
     },
     "execution_count": 23,
     "metadata": {},
     "output_type": "execute_result"
    }
   ],
   "source": [
    "#keyword or reserved words cannot be names of variable\n",
    "import keyword\n",
    "print(keyword.kwlist)\n",
    "len(keyword.kwlist)"
   ]
  },
  {
   "cell_type": "code",
   "execution_count": 24,
   "id": "844c7d02-e8d2-4f2c-9f2b-7e0869bcbcf9",
   "metadata": {},
   "outputs": [
    {
     "ename": "SyntaxError",
     "evalue": "invalid syntax (633994889.py, line 1)",
     "output_type": "error",
     "traceback": [
      "  \u001b[36mCell\u001b[39m\u001b[36m \u001b[39m\u001b[32mIn[24]\u001b[39m\u001b[32m, line 1\u001b[39m\n\u001b[31m    \u001b[39m\u001b[31mfor=8\u001b[39m\n       ^\n\u001b[31mSyntaxError\u001b[39m\u001b[31m:\u001b[39m invalid syntax\n"
     ]
    }
   ],
   "source": [
    "for=8"
   ]
  },
  {
   "cell_type": "code",
   "execution_count": 25,
   "id": "5573772c-38ee-4c62-b5c8-7f5b213ef649",
   "metadata": {},
   "outputs": [
    {
     "ename": "SyntaxError",
     "evalue": "invalid syntax (692514177.py, line 1)",
     "output_type": "error",
     "traceback": [
      "  \u001b[36mCell\u001b[39m\u001b[36m \u001b[39m\u001b[32mIn[25]\u001b[39m\u001b[32m, line 1\u001b[39m\n\u001b[31m    \u001b[39m\u001b[31mdef=79\u001b[39m\n       ^\n\u001b[31mSyntaxError\u001b[39m\u001b[31m:\u001b[39m invalid syntax\n"
     ]
    }
   ],
   "source": [
    "def=79"
   ]
  },
  {
   "cell_type": "code",
   "execution_count": null,
   "id": "95f80d87-5741-41c5-b449-b5fac24f1a71",
   "metadata": {},
   "outputs": [],
   "source": []
  }
 ],
 "metadata": {
  "kernelspec": {
   "display_name": "Python 3 (ipykernel)",
   "language": "python",
   "name": "python3"
  },
  "language_info": {
   "codemirror_mode": {
    "name": "ipython",
    "version": 3
   },
   "file_extension": ".py",
   "mimetype": "text/x-python",
   "name": "python",
   "nbconvert_exporter": "python",
   "pygments_lexer": "ipython3",
   "version": "3.13.5"
  }
 },
 "nbformat": 4,
 "nbformat_minor": 5
}
