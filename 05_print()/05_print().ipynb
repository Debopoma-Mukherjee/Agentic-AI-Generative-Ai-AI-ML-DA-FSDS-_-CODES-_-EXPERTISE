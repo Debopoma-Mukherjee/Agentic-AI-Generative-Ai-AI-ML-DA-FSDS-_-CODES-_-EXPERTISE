{
 "cells": [
  {
   "cell_type": "markdown",
   "id": "2a42c4fd-effd-4d36-b882-be8004bcda3c",
   "metadata": {},
   "source": [
    "# print()\n",
    "## It is a fn as it ends with ()"
   ]
  },
  {
   "cell_type": "code",
   "execution_count": 17,
   "id": "613886b6-d574-4446-9bae-68b0905b1686",
   "metadata": {},
   "outputs": [
    {
     "name": "stdout",
     "output_type": "stream",
     "text": [
      "10 20\n",
      "10\n",
      "python\n"
     ]
    }
   ],
   "source": [
    "print(10,20) # in print fn an user can pass one argument or more and we can pass any type of argument\n",
    "print(10)\n",
    "print('python')"
   ]
  },
  {
   "cell_type": "code",
   "execution_count": 4,
   "id": "f650e499-3144-4631-acbb-4fac3add1698",
   "metadata": {},
   "outputs": [
    {
     "name": "stdout",
     "output_type": "stream",
     "text": [
      "50\n"
     ]
    }
   ],
   "source": [
    "num1=20\n",
    "num2=30\n",
    "add=num1+num2\n",
    "print(add)"
   ]
  },
  {
   "cell_type": "markdown",
   "id": "cf4d3c72-833f-4e4e-9de0-6f296019e7de",
   "metadata": {},
   "source": [
    "## Print using string"
   ]
  },
  {
   "cell_type": "code",
   "execution_count": 5,
   "id": "0000fac4-f14d-4bec-8ab0-8cfe0bff9ad2",
   "metadata": {},
   "outputs": [
    {
     "name": "stdout",
     "output_type": "stream",
     "text": [
      "The addition of 20 and 30 is 50\n"
     ]
    }
   ],
   "source": [
    "num1=20\n",
    "num2=30\n",
    "add=num1+num2\n",
    "print('The addition of',num1,'and',num2,'is',add)"
   ]
  },
  {
   "cell_type": "markdown",
   "id": "ac7fc8b0-f090-4a8f-b586-8116ebed5ff7",
   "metadata": {},
   "source": [
    "## Print using format method"
   ]
  },
  {
   "cell_type": "code",
   "execution_count": 9,
   "id": "59eed2dc-08ca-48d6-ba22-efe15148aa66",
   "metadata": {},
   "outputs": [
    {
     "name": "stdout",
     "output_type": "stream",
     "text": [
      "the addition of 20 and 30 is =50\n"
     ]
    }
   ],
   "source": [
    "num1=20\n",
    "num2=30\n",
    "add=num1+num2\n",
    "print('the addition of {} and {} is ={}'.format(num1,num2,add))"
   ]
  },
  {
   "cell_type": "markdown",
   "id": "854d73e8-5114-49be-a5c8-f1afd77ea323",
   "metadata": {},
   "source": [
    "## Print using f string"
   ]
  },
  {
   "cell_type": "code",
   "execution_count": 10,
   "id": "866c7dcf-a62d-4292-b48a-4218844a8e40",
   "metadata": {},
   "outputs": [
    {
     "name": "stdout",
     "output_type": "stream",
     "text": [
      "the addition of 20 and 30 is 50\n"
     ]
    }
   ],
   "source": [
    "print(f'the addition of {num1} and {num2} is {add}')"
   ]
  },
  {
   "cell_type": "markdown",
   "id": "49022840-a9c6-471d-b85c-58e931fed5c8",
   "metadata": {},
   "source": [
    "## end parameter "
   ]
  },
  {
   "cell_type": "code",
   "execution_count": 12,
   "id": "379bad66-ced3-4b61-9602-a826bd93c4ae",
   "metadata": {},
   "outputs": [
    {
     "name": "stdout",
     "output_type": "stream",
     "text": [
      "hello\n",
      "goodmorning\n"
     ]
    }
   ],
   "source": [
    "print('hello')\n",
    "print('goodmorning')"
   ]
  },
  {
   "cell_type": "code",
   "execution_count": 13,
   "id": "ab4b2432-3ff4-469c-a3b4-47c5699b000c",
   "metadata": {},
   "outputs": [
    {
     "name": "stdout",
     "output_type": "stream",
     "text": [
      "hello*goodmorning\n"
     ]
    }
   ],
   "source": [
    "print('hello',end=\"*\")\n",
    "print('goodmorning')"
   ]
  },
  {
   "cell_type": "markdown",
   "id": "a731eb18-dbe2-4c8e-8cdc-acdf3ceb5113",
   "metadata": {},
   "source": [
    "## sep parameter "
   ]
  },
  {
   "cell_type": "code",
   "execution_count": 14,
   "id": "5dfacba7-75ce-42a2-a653-dcb4267a779f",
   "metadata": {},
   "outputs": [
    {
     "name": "stdout",
     "output_type": "stream",
     "text": [
      "heelo**hai**how are you\n"
     ]
    }
   ],
   "source": [
    "print('heelo','hai','how are you',sep='**')"
   ]
  },
  {
   "cell_type": "code",
   "execution_count": null,
   "id": "6ced946b-3416-4ba7-94ee-f908b3cb2370",
   "metadata": {},
   "outputs": [],
   "source": []
  },
  {
   "cell_type": "code",
   "execution_count": null,
   "id": "bdd981d2-62b7-4a31-9b38-949a7f0465d6",
   "metadata": {},
   "outputs": [],
   "source": []
  }
 ],
 "metadata": {
  "kernelspec": {
   "display_name": "Python 3 (ipykernel)",
   "language": "python",
   "name": "python3"
  },
  "language_info": {
   "codemirror_mode": {
    "name": "ipython",
    "version": 3
   },
   "file_extension": ".py",
   "mimetype": "text/x-python",
   "name": "python",
   "nbconvert_exporter": "python",
   "pygments_lexer": "ipython3",
   "version": "3.13.5"
  }
 },
 "nbformat": 4,
 "nbformat_minor": 5
}
