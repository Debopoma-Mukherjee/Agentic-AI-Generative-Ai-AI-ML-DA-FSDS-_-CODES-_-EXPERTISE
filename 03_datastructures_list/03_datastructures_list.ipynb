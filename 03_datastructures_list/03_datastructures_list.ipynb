{
 "cells": [
  {
   "cell_type": "markdown",
   "id": "683d7bb2-4ed2-45ad-8424-a2a32599fc6c",
   "metadata": {},
   "source": [
    "# Python Datastructure"
   ]
  },
  {
   "cell_type": "markdown",
   "id": "884bec3d-1320-4dcb-b5bb-b14dab322ba7",
   "metadata": {},
   "source": [
    "## Datatype vs Datastructure\n",
    "### Data Type: user can declare only 1 value\n",
    "### Data Structure:user can declare more than 1 value is called data structure\n",
    "### Table contains row and columns\n",
    "### Matrix can be 1d,2d,nd"
   ]
  },
  {
   "cell_type": "markdown",
   "id": "4d2943af-7254-4b2c-9a4f-802eb2d0718e",
   "metadata": {},
   "source": [
    "## Inbuilt ds(primitive)-LIST,TUPLE,SET,DICT,RANGE\n",
    "## User defined ds(non primitive)-STACK,LINKEDLIST,ARRAY,TREE\n",
    "### for user define ds we hv libraries"
   ]
  },
  {
   "cell_type": "markdown",
   "id": "ce0c2704-1485-423c-8d2d-347db21b1dfa",
   "metadata": {},
   "source": [
    "# LIST\n"
   ]
  },
  {
   "cell_type": "code",
   "execution_count": 1,
   "id": "e71ecf62-369e-4eba-831d-7ee61804e7e0",
   "metadata": {},
   "outputs": [
    {
     "data": {
      "text/plain": [
       "[]"
      ]
     },
     "execution_count": 1,
     "metadata": {},
     "output_type": "execute_result"
    }
   ],
   "source": [
    "l=[] # list always defined with []\n",
    "l"
   ]
  },
  {
   "cell_type": "code",
   "execution_count": 2,
   "id": "b58b7b61-a5d9-4cf2-b765-f34604c2aa18",
   "metadata": {},
   "outputs": [
    {
     "data": {
      "text/plain": [
       "list"
      ]
     },
     "execution_count": 2,
     "metadata": {},
     "output_type": "execute_result"
    }
   ],
   "source": [
    "type(l)"
   ]
  },
  {
   "cell_type": "markdown",
   "id": "dd14ef74-abff-447e-bfd0-c15cfd77f506",
   "metadata": {},
   "source": [
    "# 1)append():adds at the last"
   ]
  },
  {
   "cell_type": "code",
   "execution_count": 3,
   "id": "ccba3b5f-f37b-4ecd-8ade-70ef13c8da70",
   "metadata": {},
   "outputs": [],
   "source": [
    "l.append(10)"
   ]
  },
  {
   "cell_type": "code",
   "execution_count": 4,
   "id": "4042b73b-60d8-4e2a-b43f-f707c36b6fcf",
   "metadata": {},
   "outputs": [
    {
     "data": {
      "text/plain": [
       "[10]"
      ]
     },
     "execution_count": 4,
     "metadata": {},
     "output_type": "execute_result"
    }
   ],
   "source": [
    "l\n"
   ]
  },
  {
   "cell_type": "code",
   "execution_count": 5,
   "id": "3ca7c83a-5c05-4560-9b4e-a12ed4e596e2",
   "metadata": {},
   "outputs": [],
   "source": [
    "l.append(20)"
   ]
  },
  {
   "cell_type": "code",
   "execution_count": 6,
   "id": "eb8ec62c-0ac1-4752-a3be-a184240dc16c",
   "metadata": {},
   "outputs": [
    {
     "data": {
      "text/plain": [
       "[10, 20]"
      ]
     },
     "execution_count": 6,
     "metadata": {},
     "output_type": "execute_result"
    }
   ],
   "source": [
    "l"
   ]
  },
  {
   "cell_type": "code",
   "execution_count": 7,
   "id": "b445dd11-5d5d-4a15-9270-22ef724f0448",
   "metadata": {},
   "outputs": [],
   "source": [
    "l.append(30)"
   ]
  },
  {
   "cell_type": "code",
   "execution_count": 8,
   "id": "76907986-81b5-4210-9a50-3ba79776f585",
   "metadata": {},
   "outputs": [
    {
     "data": {
      "text/plain": [
       "[10, 20, 30]"
      ]
     },
     "execution_count": 8,
     "metadata": {},
     "output_type": "execute_result"
    }
   ],
   "source": [
    "l"
   ]
  },
  {
   "cell_type": "code",
   "execution_count": 9,
   "id": "6ca61f5e-92ef-434c-a0a9-dece0e68d3b5",
   "metadata": {},
   "outputs": [
    {
     "data": {
      "text/plain": [
       "3"
      ]
     },
     "execution_count": 9,
     "metadata": {},
     "output_type": "execute_result"
    }
   ],
   "source": [
    "len(l)"
   ]
  },
  {
   "cell_type": "code",
   "execution_count": 10,
   "id": "684cd509-fbb9-4b30-945d-7f6eb6fe6f09",
   "metadata": {},
   "outputs": [
    {
     "data": {
      "text/plain": [
       "[10, 3.4, 'ten', True, (1+2j)]"
      ]
     },
     "execution_count": 10,
     "metadata": {},
     "output_type": "execute_result"
    }
   ],
   "source": [
    "l1=[10,3.4,'ten',True,1+2j]#in list can assign multiple values\n",
    "l1"
   ]
  },
  {
   "cell_type": "code",
   "execution_count": 11,
   "id": "034ebed0-3e0c-4cf7-a833-ca5aa4aa04ef",
   "metadata": {},
   "outputs": [
    {
     "name": "stdout",
     "output_type": "stream",
     "text": [
      "[10, 20, 30]\n",
      "[10, 3.4, 'ten', True, (1+2j)]\n"
     ]
    }
   ],
   "source": [
    "print(l)\n",
    "print(l1)\n",
    "#both l and l1 are variables"
   ]
  },
  {
   "cell_type": "code",
   "execution_count": 12,
   "id": "d22baffc-8465-417a-8511-1de069f8de9f",
   "metadata": {},
   "outputs": [
    {
     "name": "stdout",
     "output_type": "stream",
     "text": [
      "2790879038528\n",
      "2790879171072\n"
     ]
    }
   ],
   "source": [
    "print(id(l))\n",
    "print(id(l1))\n",
    "#both ids are diff"
   ]
  },
  {
   "cell_type": "code",
   "execution_count": 13,
   "id": "d0beed73-9386-44b9-8796-ebc3686e155c",
   "metadata": {},
   "outputs": [
    {
     "ename": "NameError",
     "evalue": "name 'l2' is not defined",
     "output_type": "error",
     "traceback": [
      "\u001b[31m---------------------------------------------------------------------------\u001b[39m",
      "\u001b[31mNameError\u001b[39m                                 Traceback (most recent call last)",
      "\u001b[36mCell\u001b[39m\u001b[36m \u001b[39m\u001b[32mIn[13]\u001b[39m\u001b[32m, line 1\u001b[39m\n\u001b[32m----> \u001b[39m\u001b[32m1\u001b[39m \u001b[43ml2\u001b[49m\n\u001b[32m      2\u001b[39m \u001b[38;5;66;03m#as we hv not defined l2\u001b[39;00m\n",
      "\u001b[31mNameError\u001b[39m: name 'l2' is not defined"
     ]
    }
   ],
   "source": [
    "l2\n",
    "#as we hv not defined l2"
   ]
  },
  {
   "cell_type": "markdown",
   "id": "b0137ac4-b81b-48fb-ad11-1fc137f26087",
   "metadata": {},
   "source": [
    "# 2)copy(): to copy from one list to another"
   ]
  },
  {
   "cell_type": "code",
   "execution_count": 14,
   "id": "f4cc0ff9-26a1-42a9-931c-d67b13f227ff",
   "metadata": {},
   "outputs": [
    {
     "data": {
      "text/plain": [
       "[10, 3.4, 'ten', True, (1+2j)]"
      ]
     },
     "execution_count": 14,
     "metadata": {},
     "output_type": "execute_result"
    }
   ],
   "source": [
    "l2=l1.copy()\n",
    "l2"
   ]
  },
  {
   "cell_type": "code",
   "execution_count": 15,
   "id": "007eea9e-482a-4694-970a-5293315e6f3a",
   "metadata": {},
   "outputs": [
    {
     "data": {
      "text/plain": [
       "True"
      ]
     },
     "execution_count": 15,
     "metadata": {},
     "output_type": "execute_result"
    }
   ],
   "source": [
    "l1==l2"
   ]
  },
  {
   "cell_type": "code",
   "execution_count": 16,
   "id": "108df626-e0ee-4638-8457-dc1f322a7521",
   "metadata": {},
   "outputs": [
    {
     "data": {
      "text/plain": [
       "False"
      ]
     },
     "execution_count": 16,
     "metadata": {},
     "output_type": "execute_result"
    }
   ],
   "source": [
    "l==l2"
   ]
  },
  {
   "cell_type": "code",
   "execution_count": 17,
   "id": "7ac77432-0889-47b1-bbd0-6055de15c431",
   "metadata": {},
   "outputs": [
    {
     "name": "stdout",
     "output_type": "stream",
     "text": [
      "[10, 20, 30]\n",
      "[10, 3.4, 'ten', True, (1+2j)]\n",
      "[10, 3.4, 'ten', True, (1+2j)]\n"
     ]
    }
   ],
   "source": [
    "print(l)\n",
    "print(l1)\n",
    "print(l2)"
   ]
  },
  {
   "cell_type": "code",
   "execution_count": 18,
   "id": "2511e405-2379-4a8a-8b6b-69ca5716ce06",
   "metadata": {},
   "outputs": [
    {
     "data": {
      "text/plain": [
       "True"
      ]
     },
     "execution_count": 18,
     "metadata": {},
     "output_type": "execute_result"
    }
   ],
   "source": [
    "l!=l2"
   ]
  },
  {
   "cell_type": "code",
   "execution_count": 19,
   "id": "13068503-f58e-4eb9-b8a6-ad78082b70ad",
   "metadata": {},
   "outputs": [
    {
     "data": {
      "text/plain": [
       "30"
      ]
     },
     "execution_count": 19,
     "metadata": {},
     "output_type": "execute_result"
    }
   ],
   "source": [
    "l[-1]"
   ]
  },
  {
   "cell_type": "code",
   "execution_count": 20,
   "id": "3a35dbd8-74d3-441a-82d8-0f13f6382c10",
   "metadata": {},
   "outputs": [
    {
     "ename": "IndexError",
     "evalue": "list index out of range",
     "output_type": "error",
     "traceback": [
      "\u001b[31m---------------------------------------------------------------------------\u001b[39m",
      "\u001b[31mIndexError\u001b[39m                                Traceback (most recent call last)",
      "\u001b[36mCell\u001b[39m\u001b[36m \u001b[39m\u001b[32mIn[20]\u001b[39m\u001b[32m, line 1\u001b[39m\n\u001b[32m----> \u001b[39m\u001b[32m1\u001b[39m \u001b[43ml\u001b[49m\u001b[43m[\u001b[49m\u001b[32;43m10\u001b[39;49m\u001b[43m]\u001b[49m\n",
      "\u001b[31mIndexError\u001b[39m: list index out of range"
     ]
    }
   ],
   "source": [
    "l[10]"
   ]
  },
  {
   "cell_type": "code",
   "execution_count": 21,
   "id": "fbdfab29-5baa-4938-baf0-a8ae0d951858",
   "metadata": {},
   "outputs": [
    {
     "data": {
      "text/plain": [
       "10"
      ]
     },
     "execution_count": 21,
     "metadata": {},
     "output_type": "execute_result"
    }
   ],
   "source": [
    "l[0]"
   ]
  },
  {
   "cell_type": "markdown",
   "id": "3c97ad9e-2997-49cc-9065-8c45cd3af4db",
   "metadata": {},
   "source": [
    "# 4)mutable"
   ]
  },
  {
   "cell_type": "code",
   "execution_count": 22,
   "id": "f8901ac9-d8bd-4aee-8685-ff0589940ac3",
   "metadata": {},
   "outputs": [
    {
     "data": {
      "text/plain": [
       "[100, 20, 30]"
      ]
     },
     "execution_count": 22,
     "metadata": {},
     "output_type": "execute_result"
    }
   ],
   "source": [
    "l[0]=100 #mutable OR changeable OR hashable\n",
    "l"
   ]
  },
  {
   "cell_type": "code",
   "execution_count": 23,
   "id": "f1d1d8a4-b3e3-44fd-8f86-21153c9da61f",
   "metadata": {},
   "outputs": [
    {
     "data": {
      "text/plain": [
       "[100, 20, 'jan']"
      ]
     },
     "execution_count": 23,
     "metadata": {},
     "output_type": "execute_result"
    }
   ],
   "source": [
    "l[-1]='jan'\n",
    "l"
   ]
  },
  {
   "cell_type": "markdown",
   "id": "7492b0de-7680-422f-9fe3-73bc65475124",
   "metadata": {},
   "source": [
    "# 5)duplicates,slicing,indexing are allowed"
   ]
  },
  {
   "cell_type": "code",
   "execution_count": 24,
   "id": "25cf3d96-4dee-471a-b3fa-89ea1ab6851a",
   "metadata": {},
   "outputs": [
    {
     "data": {
      "text/plain": [
       "[100, 20, 'jan', 40]"
      ]
     },
     "execution_count": 24,
     "metadata": {},
     "output_type": "execute_result"
    }
   ],
   "source": [
    "l.append(40)\n",
    "l"
   ]
  },
  {
   "cell_type": "markdown",
   "id": "5701af71-4976-41b1-aa81-2aaab49a3345",
   "metadata": {},
   "source": [
    "# 6)clear():removes the whole list"
   ]
  },
  {
   "cell_type": "code",
   "execution_count": 25,
   "id": "dbef6e8a-4cc0-49aa-8631-232eb974810e",
   "metadata": {},
   "outputs": [
    {
     "data": {
      "text/plain": [
       "0"
      ]
     },
     "execution_count": 25,
     "metadata": {},
     "output_type": "execute_result"
    }
   ],
   "source": [
    "l2.clear()\n",
    "len(l2)"
   ]
  },
  {
   "cell_type": "markdown",
   "id": "0fed3d51-e0ad-462a-ba15-c7c918dfa41c",
   "metadata": {},
   "source": [
    "# 7)delete the list"
   ]
  },
  {
   "cell_type": "code",
   "execution_count": null,
   "id": "a74dceec-6825-419b-89c1-68ebc156d7c3",
   "metadata": {},
   "outputs": [],
   "source": [
    "del l2"
   ]
  },
  {
   "cell_type": "markdown",
   "id": "6cde5558-82d6-46fe-b883-51f4b5f7b726",
   "metadata": {},
   "source": [
    "# 8)count"
   ]
  },
  {
   "cell_type": "code",
   "execution_count": 26,
   "id": "1989207d-a53f-4a19-90b0-dbbdd60b1ad0",
   "metadata": {},
   "outputs": [
    {
     "data": {
      "text/plain": [
       "1"
      ]
     },
     "execution_count": 26,
     "metadata": {},
     "output_type": "execute_result"
    }
   ],
   "source": [
    "l.count(40)"
   ]
  },
  {
   "cell_type": "code",
   "execution_count": 27,
   "id": "1ba170bf-dfab-44f7-ae3a-ff316f28cc30",
   "metadata": {},
   "outputs": [
    {
     "data": {
      "text/plain": [
       "1"
      ]
     },
     "execution_count": 27,
     "metadata": {},
     "output_type": "execute_result"
    }
   ],
   "source": [
    "l.count(20)"
   ]
  },
  {
   "cell_type": "code",
   "execution_count": 28,
   "id": "063d5e17-af25-4b95-abac-fb5a44566305",
   "metadata": {},
   "outputs": [
    {
     "data": {
      "text/plain": [
       "0"
      ]
     },
     "execution_count": 28,
     "metadata": {},
     "output_type": "execute_result"
    }
   ],
   "source": [
    "l.count(1000)"
   ]
  },
  {
   "cell_type": "markdown",
   "id": "a5b2b292-7187-4c13-ab67-a6494034244a",
   "metadata": {},
   "source": [
    "# 9)extend()"
   ]
  },
  {
   "cell_type": "code",
   "execution_count": 29,
   "id": "8bc5fe7e-f62f-48c6-a63e-5abf2b17fdd0",
   "metadata": {},
   "outputs": [
    {
     "name": "stdout",
     "output_type": "stream",
     "text": [
      "[100, 20, 'jan', 40]\n",
      "[10, 3.4, 'ten', True, (1+2j)]\n",
      "4\n",
      "5\n"
     ]
    }
   ],
   "source": [
    "print(l)\n",
    "print(l1)\n",
    "print(len(l))\n",
    "print(len(l1))\n"
   ]
  },
  {
   "cell_type": "code",
   "execution_count": 30,
   "id": "8e18d830-8a64-42a2-85cb-80b6826ba70d",
   "metadata": {},
   "outputs": [
    {
     "data": {
      "text/plain": [
       "[10, 3.4, 'ten', True, (1+2j), 100, 20, 'jan', 40]"
      ]
     },
     "execution_count": 30,
     "metadata": {},
     "output_type": "execute_result"
    }
   ],
   "source": [
    "l1.extend(l)\n",
    "l1"
   ]
  },
  {
   "cell_type": "markdown",
   "id": "57858ab1-3722-4a84-87fe-18e03724772d",
   "metadata": {},
   "source": [
    "# 10)list membership"
   ]
  },
  {
   "cell_type": "code",
   "execution_count": 31,
   "id": "82835f83-649e-4c35-a440-dc1cd7588991",
   "metadata": {},
   "outputs": [
    {
     "data": {
      "text/plain": [
       "False"
      ]
     },
     "execution_count": 31,
     "metadata": {},
     "output_type": "execute_result"
    }
   ],
   "source": [
    "10 in l"
   ]
  },
  {
   "cell_type": "code",
   "execution_count": 32,
   "id": "faeff949-951f-48ab-a533-f29e9e628bc7",
   "metadata": {},
   "outputs": [
    {
     "data": {
      "text/plain": [
       "True"
      ]
     },
     "execution_count": 32,
     "metadata": {},
     "output_type": "execute_result"
    }
   ],
   "source": [
    "20 in l\n"
   ]
  },
  {
   "cell_type": "markdown",
   "id": "79e141db-f8d1-4b52-895f-dd22ad86e548",
   "metadata": {},
   "source": [
    "# 11)index"
   ]
  },
  {
   "cell_type": "code",
   "execution_count": 34,
   "id": "ddb5db91-90e3-48ec-ae65-f06dd00926d0",
   "metadata": {},
   "outputs": [
    {
     "data": {
      "text/plain": [
       "0"
      ]
     },
     "execution_count": 34,
     "metadata": {},
     "output_type": "execute_result"
    }
   ],
   "source": [
    "l1.index(10)"
   ]
  },
  {
   "cell_type": "markdown",
   "id": "000cd62a-3e04-468f-aebe-514910c7807d",
   "metadata": {},
   "source": [
    "# : - print all element=value=items==member"
   ]
  },
  {
   "cell_type": "markdown",
   "id": "49163b52-4301-447a-949f-3fd345581e96",
   "metadata": {},
   "source": [
    "# 2:4 - print element starting from 2nd index till n-1 3rd index\n",
    "# :4  - starting indx from 0th index to 3 rd index\n",
    "# 4:  -starting from 4th indx till last"
   ]
  },
  {
   "cell_type": "markdown",
   "id": "8845d461-7985-4f5e-87f7-37d0446a0b9b",
   "metadata": {},
   "source": [
    "# 0:10:3 -print index 0th index to 9 th but print every 3rd index count skip other index\n",
    "# ::3 - print start to last index print only 3rd index\n",
    "# ::-1 - print the elements in reverse"
   ]
  },
  {
   "cell_type": "markdown",
   "id": "0853333d-5317-4aa0-8d90-e1f5491c519b",
   "metadata": {},
   "source": [
    "# 12)remove:removes the first occurence"
   ]
  },
  {
   "cell_type": "code",
   "execution_count": 35,
   "id": "a22e41c6-95c2-4490-b1c1-83142229cd97",
   "metadata": {},
   "outputs": [
    {
     "data": {
      "text/plain": [
       "[10, 3.4, 'ten', True, 100, 20, 'jan', 40]"
      ]
     },
     "execution_count": 35,
     "metadata": {},
     "output_type": "execute_result"
    }
   ],
   "source": [
    "l1.remove(1+2j)\n",
    "l1"
   ]
  },
  {
   "cell_type": "code",
   "execution_count": 36,
   "id": "c25b07d7-1a5a-4445-be43-8cb88b03d1aa",
   "metadata": {},
   "outputs": [
    {
     "data": {
      "text/plain": [
       "[100, 20, 'jan', 40, 10]"
      ]
     },
     "execution_count": 36,
     "metadata": {},
     "output_type": "execute_result"
    }
   ],
   "source": [
    "l.append(10)\n",
    "l"
   ]
  },
  {
   "cell_type": "code",
   "execution_count": 37,
   "id": "5c769296-0649-450b-a171-b1d0fe6c3c13",
   "metadata": {},
   "outputs": [
    {
     "data": {
      "text/plain": [
       "[100, 20, 'jan', 40, 10, 10]"
      ]
     },
     "execution_count": 37,
     "metadata": {},
     "output_type": "execute_result"
    }
   ],
   "source": [
    "l.append(10)\n",
    "l"
   ]
  },
  {
   "cell_type": "code",
   "execution_count": 40,
   "id": "4ef04543-9aba-4c6e-98dc-f59054da6b24",
   "metadata": {},
   "outputs": [
    {
     "data": {
      "text/plain": [
       "[100, 20, 'jan', 40]"
      ]
     },
     "execution_count": 40,
     "metadata": {},
     "output_type": "execute_result"
    }
   ],
   "source": [
    "l.remove(10)\n",
    "l"
   ]
  },
  {
   "cell_type": "markdown",
   "id": "08b4d476-f328-4a97-a25e-47c341575ac1",
   "metadata": {},
   "source": [
    "# 13)insert"
   ]
  },
  {
   "cell_type": "code",
   "execution_count": 41,
   "id": "707b5a05-d65f-4c41-82d8-fcf073f7c4e6",
   "metadata": {},
   "outputs": [],
   "source": [
    "l.insert(2,25)"
   ]
  },
  {
   "cell_type": "code",
   "execution_count": 42,
   "id": "0a85df41-e429-4bce-94ff-686d5f8a2705",
   "metadata": {},
   "outputs": [
    {
     "data": {
      "text/plain": [
       "[100, 20, 25, 'jan', 40]"
      ]
     },
     "execution_count": 42,
     "metadata": {},
     "output_type": "execute_result"
    }
   ],
   "source": [
    "l"
   ]
  },
  {
   "cell_type": "code",
   "execution_count": 43,
   "id": "ca154a70-011d-46ce-a010-564f8d2f8e61",
   "metadata": {},
   "outputs": [],
   "source": [
    "l.insert(3,35)"
   ]
  },
  {
   "cell_type": "code",
   "execution_count": 44,
   "id": "c284fea9-94f0-425f-a227-f0b6798ee188",
   "metadata": {},
   "outputs": [
    {
     "data": {
      "text/plain": [
       "[100, 20, 25, 35, 'jan', 40]"
      ]
     },
     "execution_count": 44,
     "metadata": {},
     "output_type": "execute_result"
    }
   ],
   "source": [
    "l"
   ]
  },
  {
   "cell_type": "code",
   "execution_count": 45,
   "id": "9ffc7618-461d-4ddf-9f1e-45a1f3e73c20",
   "metadata": {},
   "outputs": [
    {
     "ename": "TypeError",
     "evalue": "'list' object cannot be interpreted as an integer",
     "output_type": "error",
     "traceback": [
      "\u001b[31m---------------------------------------------------------------------------\u001b[39m",
      "\u001b[31mTypeError\u001b[39m                                 Traceback (most recent call last)",
      "\u001b[36mCell\u001b[39m\u001b[36m \u001b[39m\u001b[32mIn[45]\u001b[39m\u001b[32m, line 1\u001b[39m\n\u001b[32m----> \u001b[39m\u001b[32m1\u001b[39m \u001b[43ml\u001b[49m\u001b[43m.\u001b[49m\u001b[43minsert\u001b[49m\u001b[43m(\u001b[49m\u001b[43m[\u001b[49m\u001b[32;43m1\u001b[39;49m\u001b[43m,\u001b[49m\u001b[32;43m2\u001b[39;49m\u001b[43m,\u001b[49m\u001b[32;43m3\u001b[39;49m\u001b[43m]\u001b[49m\u001b[43m,\u001b[49m\u001b[32;43m5\u001b[39;49m\u001b[43m)\u001b[49m\n",
      "\u001b[31mTypeError\u001b[39m: 'list' object cannot be interpreted as an integer"
     ]
    }
   ],
   "source": [
    "l.insert([1,2,3],5)"
   ]
  },
  {
   "cell_type": "code",
   "execution_count": 46,
   "id": "210506dd-7006-41d1-8d60-4b16abbae4c3",
   "metadata": {},
   "outputs": [
    {
     "data": {
      "text/plain": [
       "[100, 20, 25, 35, 'jan', 40, [1, 2, 3]]"
      ]
     },
     "execution_count": 46,
     "metadata": {},
     "output_type": "execute_result"
    }
   ],
   "source": [
    "l.append([1,2,3])\n",
    "l"
   ]
  },
  {
   "cell_type": "markdown",
   "id": "b63cfa41-015e-47ec-9e9e-192e124ac77a",
   "metadata": {},
   "source": [
    "# 13)pop()"
   ]
  },
  {
   "cell_type": "code",
   "execution_count": 47,
   "id": "80ca4d63-3849-4d8a-8b8a-72bbb26c596d",
   "metadata": {},
   "outputs": [
    {
     "data": {
      "text/plain": [
       "[100, 20, 25, 35, 'jan', 40]"
      ]
     },
     "execution_count": 47,
     "metadata": {},
     "output_type": "execute_result"
    }
   ],
   "source": [
    "l.pop()\n",
    "l"
   ]
  },
  {
   "cell_type": "markdown",
   "id": "8e32f595-eff8-496d-8d78-b6f959dfaba8",
   "metadata": {},
   "source": [
    "## diff b/w pop() and remove()\n",
    "### In remove we give value.\n",
    "### In pop we give index.By default if no index given removes last index element"
   ]
  },
  {
   "cell_type": "code",
   "execution_count": 49,
   "id": "3817c197-e2f5-4554-8547-488740faffb7",
   "metadata": {},
   "outputs": [
    {
     "data": {
      "text/plain": [
       "[10, 3.4, 'ten', True, 100, 20, 'jan', 40]"
      ]
     },
     "execution_count": 49,
     "metadata": {},
     "output_type": "execute_result"
    }
   ],
   "source": [
    "l1"
   ]
  },
  {
   "cell_type": "code",
   "execution_count": 50,
   "id": "f91c5004-2f5d-4f62-9fb9-006b340eb067",
   "metadata": {},
   "outputs": [],
   "source": [
    "l1.remove(40)"
   ]
  },
  {
   "cell_type": "code",
   "execution_count": 51,
   "id": "3d15f881-ab06-45f0-9be9-bf492abdea1f",
   "metadata": {},
   "outputs": [
    {
     "data": {
      "text/plain": [
       "[100, 20, 25, 35, 'jan', 40]"
      ]
     },
     "execution_count": 51,
     "metadata": {},
     "output_type": "execute_result"
    }
   ],
   "source": [
    "l"
   ]
  },
  {
   "cell_type": "code",
   "execution_count": 52,
   "id": "a7be4cdc-c546-4460-8b48-fec6265a5a97",
   "metadata": {},
   "outputs": [
    {
     "ename": "IndexError",
     "evalue": "pop index out of range",
     "output_type": "error",
     "traceback": [
      "\u001b[31m---------------------------------------------------------------------------\u001b[39m",
      "\u001b[31mIndexError\u001b[39m                                Traceback (most recent call last)",
      "\u001b[36mCell\u001b[39m\u001b[36m \u001b[39m\u001b[32mIn[52]\u001b[39m\u001b[32m, line 1\u001b[39m\n\u001b[32m----> \u001b[39m\u001b[32m1\u001b[39m \u001b[43ml1\u001b[49m\u001b[43m.\u001b[49m\u001b[43mpop\u001b[49m\u001b[43m(\u001b[49m\u001b[32;43m100\u001b[39;49m\u001b[43m)\u001b[49m\n",
      "\u001b[31mIndexError\u001b[39m: pop index out of range"
     ]
    }
   ],
   "source": [
    "l1.pop(100)"
   ]
  },
  {
   "cell_type": "code",
   "execution_count": 53,
   "id": "5cb72d95-5f8f-4de5-bed1-8af862b29241",
   "metadata": {},
   "outputs": [
    {
     "ename": "TypeError",
     "evalue": "'str' object cannot be interpreted as an integer",
     "output_type": "error",
     "traceback": [
      "\u001b[31m---------------------------------------------------------------------------\u001b[39m",
      "\u001b[31mTypeError\u001b[39m                                 Traceback (most recent call last)",
      "\u001b[36mCell\u001b[39m\u001b[36m \u001b[39m\u001b[32mIn[53]\u001b[39m\u001b[32m, line 1\u001b[39m\n\u001b[32m----> \u001b[39m\u001b[32m1\u001b[39m \u001b[43ml1\u001b[49m\u001b[43m.\u001b[49m\u001b[43mpop\u001b[49m\u001b[43m(\u001b[49m\u001b[33;43m'\u001b[39;49m\u001b[33;43mjan\u001b[39;49m\u001b[33;43m'\u001b[39;49m\u001b[43m)\u001b[49m\n",
      "\u001b[31mTypeError\u001b[39m: 'str' object cannot be interpreted as an integer"
     ]
    }
   ],
   "source": [
    "l1.pop('jan')"
   ]
  },
  {
   "cell_type": "code",
   "execution_count": 54,
   "id": "9690b777-43ae-4fed-925c-cec4ff857129",
   "metadata": {},
   "outputs": [
    {
     "data": {
      "text/plain": [
       "20"
      ]
     },
     "execution_count": 54,
     "metadata": {},
     "output_type": "execute_result"
    }
   ],
   "source": [
    "l1.pop(5)"
   ]
  },
  {
   "cell_type": "markdown",
   "id": "d4a6ec58-4014-49b7-997c-db7227d81a2b",
   "metadata": {},
   "source": [
    "# 14) sort()"
   ]
  },
  {
   "cell_type": "code",
   "execution_count": 55,
   "id": "f5038870-f970-4fd6-83d0-2426f4cbef26",
   "metadata": {},
   "outputs": [
    {
     "data": {
      "text/plain": [
       "[100, 2, 39, 14, 20, 1000]"
      ]
     },
     "execution_count": 55,
     "metadata": {},
     "output_type": "execute_result"
    }
   ],
   "source": [
    "l3=[100,2,39,14,20,1000]\n",
    "l3"
   ]
  },
  {
   "cell_type": "code",
   "execution_count": 56,
   "id": "80962895-a1a2-4259-b347-cfd0ff8919a3",
   "metadata": {},
   "outputs": [],
   "source": [
    "l3.sort()"
   ]
  },
  {
   "cell_type": "code",
   "execution_count": 57,
   "id": "8175d35f-8e89-42cb-909f-62a62763ecf2",
   "metadata": {},
   "outputs": [
    {
     "data": {
      "text/plain": [
       "[2, 14, 20, 39, 100, 1000]"
      ]
     },
     "execution_count": 57,
     "metadata": {},
     "output_type": "execute_result"
    }
   ],
   "source": [
    "l3"
   ]
  },
  {
   "cell_type": "code",
   "execution_count": 58,
   "id": "7b3ca30e-06e5-4c33-a29e-beda26f6e651",
   "metadata": {},
   "outputs": [],
   "source": [
    "l3.sort(reverse=True)"
   ]
  },
  {
   "cell_type": "code",
   "execution_count": 59,
   "id": "2d073eba-2f4f-4044-8829-3a264e6d8d30",
   "metadata": {},
   "outputs": [
    {
     "data": {
      "text/plain": [
       "[1000, 100, 39, 20, 14, 2]"
      ]
     },
     "execution_count": 59,
     "metadata": {},
     "output_type": "execute_result"
    }
   ],
   "source": [
    "l3"
   ]
  },
  {
   "cell_type": "code",
   "execution_count": 60,
   "id": "0cbb161e-a365-4d9e-9c1b-9c4958b4de52",
   "metadata": {},
   "outputs": [],
   "source": [
    "l4=[2,2.3,True,'ten',(1+2j)] #sort fn works only in case of equal datatypes"
   ]
  },
  {
   "cell_type": "code",
   "execution_count": 62,
   "id": "a9125cb3-cf14-45b8-b95a-58344d3a5a40",
   "metadata": {},
   "outputs": [
    {
     "ename": "TypeError",
     "evalue": "'<' not supported between instances of 'str' and 'int'",
     "output_type": "error",
     "traceback": [
      "\u001b[31m---------------------------------------------------------------------------\u001b[39m",
      "\u001b[31mTypeError\u001b[39m                                 Traceback (most recent call last)",
      "\u001b[36mCell\u001b[39m\u001b[36m \u001b[39m\u001b[32mIn[62]\u001b[39m\u001b[32m, line 1\u001b[39m\n\u001b[32m----> \u001b[39m\u001b[32m1\u001b[39m \u001b[43ml4\u001b[49m\u001b[43m.\u001b[49m\u001b[43msort\u001b[49m\u001b[43m(\u001b[49m\u001b[43m)\u001b[49m\n",
      "\u001b[31mTypeError\u001b[39m: '<' not supported between instances of 'str' and 'int'"
     ]
    }
   ],
   "source": [
    "l4.sort()"
   ]
  },
  {
   "cell_type": "code",
   "execution_count": 63,
   "id": "9ca91441-450e-4148-b3d0-6dcc354e1335",
   "metadata": {},
   "outputs": [],
   "source": [
    "l5=['m','b','z','a']"
   ]
  },
  {
   "cell_type": "code",
   "execution_count": 64,
   "id": "5f8f187d-2524-4ccf-ace7-93f7710fb6b3",
   "metadata": {},
   "outputs": [
    {
     "data": {
      "text/plain": [
       "['a', 'b', 'm', 'z']"
      ]
     },
     "execution_count": 64,
     "metadata": {},
     "output_type": "execute_result"
    }
   ],
   "source": [
    "l5.sort()\n",
    "l5"
   ]
  },
  {
   "cell_type": "markdown",
   "id": "50b4fcec-6831-4360-9a25-762bfd47fb23",
   "metadata": {},
   "source": [
    "## paramater and hyperparameter\n",
    "### parameter: system given default parameter|inbuilt or built in\n",
    "### hyperparameter: user change the system parameter\n",
    "#### hyperparameter in generative ai is called fine tuning"
   ]
  },
  {
   "cell_type": "code",
   "execution_count": 65,
   "id": "38478a8e-41f0-446c-b432-4d6ea4b4b3d1",
   "metadata": {},
   "outputs": [],
   "source": [
    "l5.sort() #parameter as false is default parameter"
   ]
  },
  {
   "cell_type": "code",
   "execution_count": 66,
   "id": "c3145120-9469-4bd5-abc7-c0ad30c9b089",
   "metadata": {},
   "outputs": [],
   "source": [
    "l5.sort(reverse=True) #hyperparameter as we are changing the default parameter to true"
   ]
  },
  {
   "cell_type": "code",
   "execution_count": 67,
   "id": "75160052-fb2b-4e8b-b6ff-ccf76b8538ec",
   "metadata": {},
   "outputs": [
    {
     "data": {
      "text/plain": [
       "['z', 'm', 'b', 'a']"
      ]
     },
     "execution_count": 67,
     "metadata": {},
     "output_type": "execute_result"
    }
   ],
   "source": [
    "l5"
   ]
  },
  {
   "cell_type": "markdown",
   "id": "1019380b-ff2e-4cdb-9959-690c33daf43e",
   "metadata": {},
   "source": [
    "# 15)reverse"
   ]
  },
  {
   "cell_type": "code",
   "execution_count": 68,
   "id": "594ba3e3-69b4-4013-a086-53871d49f917",
   "metadata": {},
   "outputs": [
    {
     "data": {
      "text/plain": [
       "[10, 3.4, 'ten', True, 100, 'jan']"
      ]
     },
     "execution_count": 68,
     "metadata": {},
     "output_type": "execute_result"
    }
   ],
   "source": [
    "l1\n"
   ]
  },
  {
   "cell_type": "code",
   "execution_count": 69,
   "id": "ce7d8f93-68d1-40c9-ba03-71ad9a791e02",
   "metadata": {},
   "outputs": [
    {
     "data": {
      "text/plain": [
       "['jan', 100, True, 'ten', 3.4, 10]"
      ]
     },
     "execution_count": 69,
     "metadata": {},
     "output_type": "execute_result"
    }
   ],
   "source": [
    "l1.reverse()\n",
    "l1"
   ]
  },
  {
   "cell_type": "code",
   "execution_count": 72,
   "id": "cb7623a5-8a76-418c-baf2-e3188d2a4290",
   "metadata": {},
   "outputs": [
    {
     "name": "stdout",
     "output_type": "stream",
     "text": [
      "100\n",
      "20\n",
      "25\n",
      "35\n",
      "jan\n",
      "40\n"
     ]
    }
   ],
   "source": [
    "for i in l:\n",
    "    print(i)"
   ]
  },
  {
   "cell_type": "code",
   "execution_count": 73,
   "id": "62235e33-b7de-4ed3-8d6f-09c29e7a4170",
   "metadata": {},
   "outputs": [
    {
     "name": "stdout",
     "output_type": "stream",
     "text": [
      "(0, 1000)\n",
      "(1, 100)\n",
      "(2, 39)\n",
      "(3, 20)\n",
      "(4, 14)\n",
      "(5, 2)\n"
     ]
    }
   ],
   "source": [
    "for i in enumerate(l3):\n",
    "    print(i)"
   ]
  },
  {
   "cell_type": "markdown",
   "id": "2042fb6a-a296-489a-b736-ace7718913bc",
   "metadata": {},
   "source": [
    "# any()/all()\n",
    "## if 0 is present in the list all-false and any() true\n",
    "## if no 0 is present then any() true"
   ]
  },
  {
   "cell_type": "code",
   "execution_count": 74,
   "id": "b434631f-6b14-42e0-bfd2-9a0f4cfa88bf",
   "metadata": {},
   "outputs": [
    {
     "data": {
      "text/plain": [
       "[1, 2, 3, 4, 0]"
      ]
     },
     "execution_count": 74,
     "metadata": {},
     "output_type": "execute_result"
    }
   ],
   "source": [
    "L1=[1,2,3,4,0]\n",
    "L1"
   ]
  },
  {
   "cell_type": "code",
   "execution_count": 75,
   "id": "648670d2-5dc7-4aef-a8a8-80dede30d045",
   "metadata": {},
   "outputs": [
    {
     "data": {
      "text/plain": [
       "False"
      ]
     },
     "execution_count": 75,
     "metadata": {},
     "output_type": "execute_result"
    }
   ],
   "source": [
    "all(L1)\n"
   ]
  },
  {
   "cell_type": "code",
   "execution_count": 76,
   "id": "1072f92b-4e18-41ae-bee9-e3a3f47e446f",
   "metadata": {},
   "outputs": [
    {
     "data": {
      "text/plain": [
       "True"
      ]
     },
     "execution_count": 76,
     "metadata": {},
     "output_type": "execute_result"
    }
   ],
   "source": [
    "any(L1)"
   ]
  },
  {
   "cell_type": "code",
   "execution_count": null,
   "id": "9bee0331-41de-441a-9bd7-af71c04a3646",
   "metadata": {},
   "outputs": [],
   "source": []
  }
 ],
 "metadata": {
  "kernelspec": {
   "display_name": "Python 3 (ipykernel)",
   "language": "python",
   "name": "python3"
  },
  "language_info": {
   "codemirror_mode": {
    "name": "ipython",
    "version": 3
   },
   "file_extension": ".py",
   "mimetype": "text/x-python",
   "name": "python",
   "nbconvert_exporter": "python",
   "pygments_lexer": "ipython3",
   "version": "3.13.5"
  }
 },
 "nbformat": 4,
 "nbformat_minor": 5
}
