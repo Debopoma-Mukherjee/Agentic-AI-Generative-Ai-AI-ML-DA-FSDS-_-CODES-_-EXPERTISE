{
 "cells": [
  {
   "cell_type": "markdown",
   "id": "31aec023-1a6b-4ccb-9659-8413970e2cf9",
   "metadata": {},
   "source": [
    "# SET\n",
    "## set and dict both assigned with {}.For empty set we will use set()."
   ]
  },
  {
   "cell_type": "code",
   "execution_count": 1,
   "id": "51b46189-3844-4ce8-ad05-a995aa50a052",
   "metadata": {},
   "outputs": [
    {
     "data": {
      "text/plain": [
       "{}"
      ]
     },
     "execution_count": 1,
     "metadata": {},
     "output_type": "execute_result"
    }
   ],
   "source": [
    "s={}\n",
    "s"
   ]
  },
  {
   "cell_type": "code",
   "execution_count": 2,
   "id": "ad7e82a0-8a76-4fbc-b2ea-88d759a8ff92",
   "metadata": {},
   "outputs": [
    {
     "data": {
      "text/plain": [
       "dict"
      ]
     },
     "execution_count": 2,
     "metadata": {},
     "output_type": "execute_result"
    }
   ],
   "source": [
    "type(s)"
   ]
  },
  {
   "cell_type": "code",
   "execution_count": 3,
   "id": "2d7b4548-d51a-402a-8ee8-313e0efa44c7",
   "metadata": {},
   "outputs": [],
   "source": [
    "s1=set()"
   ]
  },
  {
   "cell_type": "code",
   "execution_count": 4,
   "id": "dd146466-f356-4c12-bc56-d827dc4dfc3a",
   "metadata": {},
   "outputs": [
    {
     "data": {
      "text/plain": [
       "set()"
      ]
     },
     "execution_count": 4,
     "metadata": {},
     "output_type": "execute_result"
    }
   ],
   "source": [
    "s1"
   ]
  },
  {
   "cell_type": "code",
   "execution_count": 6,
   "id": "31c00f43-5951-4ebf-b77a-dc2f91c5389c",
   "metadata": {},
   "outputs": [
    {
     "data": {
      "text/plain": [
       "{10, 25, 40, 50, 90}"
      ]
     },
     "execution_count": 6,
     "metadata": {},
     "output_type": "execute_result"
    }
   ],
   "source": [
    "s2={90,10,50,40,25,10,50}\n",
    "s2\n"
   ]
  },
  {
   "cell_type": "code",
   "execution_count": 7,
   "id": "5771e2b8-020c-4bc6-8fea-3159bae95dfe",
   "metadata": {},
   "outputs": [],
   "source": [
    "s3=s2.copy()"
   ]
  },
  {
   "cell_type": "code",
   "execution_count": 8,
   "id": "02e5aa59-e6d9-4e4e-a45f-78702d692779",
   "metadata": {},
   "outputs": [
    {
     "data": {
      "text/plain": [
       "{10, 25, 40, 50, 90}"
      ]
     },
     "execution_count": 8,
     "metadata": {},
     "output_type": "execute_result"
    }
   ],
   "source": [
    "s3"
   ]
  },
  {
   "cell_type": "markdown",
   "id": "6ac9f0f3-eb60-4b18-a4e4-ed4b99c4a723",
   "metadata": {},
   "source": [
    "## 1)add()\n",
    "### adds the element anywhere arbitarily"
   ]
  },
  {
   "cell_type": "code",
   "execution_count": 9,
   "id": "460a812f-5bd0-458d-b13f-e09912296d34",
   "metadata": {},
   "outputs": [],
   "source": [
    "s3.add(3.4)"
   ]
  },
  {
   "cell_type": "code",
   "execution_count": 10,
   "id": "6e7aa275-7ad5-4cad-91e3-0bc5da25090b",
   "metadata": {},
   "outputs": [],
   "source": [
    "s3.add('nit')"
   ]
  },
  {
   "cell_type": "code",
   "execution_count": 11,
   "id": "b21566b4-5764-4755-a22d-e8ea56e85585",
   "metadata": {},
   "outputs": [],
   "source": [
    "s3.add(1+2j)"
   ]
  },
  {
   "cell_type": "code",
   "execution_count": 12,
   "id": "15ef4861-a236-40e3-9d90-5dd25212600e",
   "metadata": {},
   "outputs": [],
   "source": [
    "s3.add(True)"
   ]
  },
  {
   "cell_type": "code",
   "execution_count": 13,
   "id": "c41c8494-b121-44a6-a77b-d008824e50a3",
   "metadata": {},
   "outputs": [
    {
     "data": {
      "text/plain": [
       "{(1+2j), 10, 25, 3.4, 40, 50, 90, True, 'nit'}"
      ]
     },
     "execution_count": 13,
     "metadata": {},
     "output_type": "execute_result"
    }
   ],
   "source": [
    "s3"
   ]
  },
  {
   "cell_type": "markdown",
   "id": "a301ca93-7c1b-41ed-9ddc-7934e7766eb6",
   "metadata": {},
   "source": [
    "print(s)\n",
    "print(s1)\n",
    "print(s2)\n",
    "print(s3)"
   ]
  },
  {
   "cell_type": "markdown",
   "id": "e20b45ba-bcc0-4ac4-ba71-b8b344d4e22b",
   "metadata": {},
   "source": [
    "## 2) remove() and discard()\n",
    "### remove gives error if the element is not there in the set \n",
    "### discard will not give error if the element is not there in the set"
   ]
  },
  {
   "cell_type": "code",
   "execution_count": 16,
   "id": "112969e8-ed6b-4267-a579-4f9d85966a78",
   "metadata": {},
   "outputs": [
    {
     "ename": "KeyError",
     "evalue": "2000",
     "output_type": "error",
     "traceback": [
      "\u001b[31m---------------------------------------------------------------------------\u001b[39m",
      "\u001b[31mKeyError\u001b[39m                                  Traceback (most recent call last)",
      "\u001b[36mCell\u001b[39m\u001b[36m \u001b[39m\u001b[32mIn[16]\u001b[39m\u001b[32m, line 1\u001b[39m\n\u001b[32m----> \u001b[39m\u001b[32m1\u001b[39m \u001b[43ms3\u001b[49m\u001b[43m.\u001b[49m\u001b[43mremove\u001b[49m\u001b[43m(\u001b[49m\u001b[32;43m2000\u001b[39;49m\u001b[43m)\u001b[49m\n",
      "\u001b[31mKeyError\u001b[39m: 2000"
     ]
    }
   ],
   "source": [
    "s3.remove(2000)"
   ]
  },
  {
   "cell_type": "code",
   "execution_count": 17,
   "id": "2a9aec44-76ed-4b61-8418-bf1382a1f258",
   "metadata": {},
   "outputs": [],
   "source": [
    "s3.remove(1+2j)"
   ]
  },
  {
   "cell_type": "code",
   "execution_count": 18,
   "id": "442f742d-29d0-4da1-85bd-b33b801ecc65",
   "metadata": {},
   "outputs": [
    {
     "data": {
      "text/plain": [
       "{10, 25, 3.4, 40, 50, 90, True, 'nit'}"
      ]
     },
     "execution_count": 18,
     "metadata": {},
     "output_type": "execute_result"
    }
   ],
   "source": [
    "s3"
   ]
  },
  {
   "cell_type": "code",
   "execution_count": 20,
   "id": "a60d6b37-9369-48ee-8d96-0e14bf856782",
   "metadata": {},
   "outputs": [],
   "source": [
    "s3.discard(1+2j) "
   ]
  },
  {
   "cell_type": "markdown",
   "id": "75f5aaad-6853-454b-b249-14d69578a2cd",
   "metadata": {},
   "source": [
    "## 3)pop()"
   ]
  },
  {
   "cell_type": "code",
   "execution_count": 22,
   "id": "8cd2376b-ef7b-4461-8fb1-1e439d673db1",
   "metadata": {},
   "outputs": [
    {
     "data": {
      "text/plain": [
       "True"
      ]
     },
     "execution_count": 22,
     "metadata": {},
     "output_type": "execute_result"
    }
   ],
   "source": [
    "s3.pop()"
   ]
  },
  {
   "cell_type": "code",
   "execution_count": 23,
   "id": "5a679a8e-072d-4c10-97f4-ceceea2d8bc4",
   "metadata": {},
   "outputs": [
    {
     "data": {
      "text/plain": [
       "{10, 25, 3.4, 40, 50, 90, 'nit'}"
      ]
     },
     "execution_count": 23,
     "metadata": {},
     "output_type": "execute_result"
    }
   ],
   "source": [
    "s3"
   ]
  },
  {
   "cell_type": "markdown",
   "id": "42b148f5-adb5-4040-b715-cd92112a5bb9",
   "metadata": {},
   "source": [
    "## In case of set we cant do indexing or slicing"
   ]
  },
  {
   "cell_type": "code",
   "execution_count": 24,
   "id": "4b68aad7-2d10-459e-8a98-66998be1d33d",
   "metadata": {},
   "outputs": [
    {
     "ename": "TypeError",
     "evalue": "set.pop() takes no arguments (1 given)",
     "output_type": "error",
     "traceback": [
      "\u001b[31m---------------------------------------------------------------------------\u001b[39m",
      "\u001b[31mTypeError\u001b[39m                                 Traceback (most recent call last)",
      "\u001b[36mCell\u001b[39m\u001b[36m \u001b[39m\u001b[32mIn[24]\u001b[39m\u001b[32m, line 1\u001b[39m\n\u001b[32m----> \u001b[39m\u001b[32m1\u001b[39m \u001b[43ms3\u001b[49m\u001b[43m.\u001b[49m\u001b[43mpop\u001b[49m\u001b[43m(\u001b[49m\u001b[32;43m0\u001b[39;49m\u001b[43m)\u001b[49m\n",
      "\u001b[31mTypeError\u001b[39m: set.pop() takes no arguments (1 given)"
     ]
    }
   ],
   "source": [
    "s3.pop(0)"
   ]
  },
  {
   "cell_type": "markdown",
   "id": "d1cfc360-d2f6-4bf3-9407-9cb7bfb2a9c2",
   "metadata": {},
   "source": [
    "s3[:]"
   ]
  },
  {
   "cell_type": "markdown",
   "id": "feb0d111-9343-4672-b7fd-562a43734e2b",
   "metadata": {},
   "source": [
    "# set membership"
   ]
  },
  {
   "cell_type": "code",
   "execution_count": 26,
   "id": "c9d2c09b-0193-43ff-aebc-3277d181d64b",
   "metadata": {},
   "outputs": [
    {
     "data": {
      "text/plain": [
       "True"
      ]
     },
     "execution_count": 26,
     "metadata": {},
     "output_type": "execute_result"
    }
   ],
   "source": [
    "40 in s3"
   ]
  },
  {
   "cell_type": "markdown",
   "id": "c1726d1b-b480-429c-9115-2bf4b0a145d0",
   "metadata": {},
   "source": [
    "# Set  operations"
   ]
  },
  {
   "cell_type": "markdown",
   "id": "b2af0348-e49e-4858-b84f-42a27f59e98e",
   "metadata": {},
   "source": [
    "# 1)union()"
   ]
  },
  {
   "cell_type": "code",
   "execution_count": 27,
   "id": "0b3e825b-a2ba-4e24-ad32-29782ae77bd6",
   "metadata": {},
   "outputs": [
    {
     "data": {
      "text/plain": [
       "{1, 2, 3, 4, 5, 6, 7, 8}"
      ]
     },
     "execution_count": 27,
     "metadata": {},
     "output_type": "execute_result"
    }
   ],
   "source": [
    "a={1,2,3}\n",
    "b={4,5,6,7,8}\n",
    "c={9,10}\n",
    "a.union(b)"
   ]
  },
  {
   "cell_type": "code",
   "execution_count": 28,
   "id": "91aa9293-d975-45f6-b71f-bf6e40813f21",
   "metadata": {},
   "outputs": [
    {
     "data": {
      "text/plain": [
       "{1, 2, 3, 4, 5, 6, 7, 8, 9, 10}"
      ]
     },
     "execution_count": 28,
     "metadata": {},
     "output_type": "execute_result"
    }
   ],
   "source": [
    "a.union(b,c)"
   ]
  },
  {
   "cell_type": "code",
   "execution_count": 29,
   "id": "eccb826a-62ad-4b76-8e6a-3019fd930375",
   "metadata": {},
   "outputs": [
    {
     "data": {
      "text/plain": [
       "{1, 2, 3, 4, 5, 6, 7, 8}"
      ]
     },
     "execution_count": 29,
     "metadata": {},
     "output_type": "execute_result"
    }
   ],
   "source": [
    "a|b\n"
   ]
  },
  {
   "cell_type": "code",
   "execution_count": 30,
   "id": "328174d4-31ac-476f-91bd-841fb4b547b6",
   "metadata": {},
   "outputs": [
    {
     "data": {
      "text/plain": [
       "{4, 5, 6, 7, 8, 9, 10}"
      ]
     },
     "execution_count": 30,
     "metadata": {},
     "output_type": "execute_result"
    }
   ],
   "source": [
    "b|c"
   ]
  },
  {
   "cell_type": "code",
   "execution_count": 31,
   "id": "685d1eb4-b67a-4496-b314-9b533ead0351",
   "metadata": {},
   "outputs": [
    {
     "data": {
      "text/plain": [
       "{1, 2, 3, 4, 5, 6, 7, 8, 9, 10}"
      ]
     },
     "execution_count": 31,
     "metadata": {},
     "output_type": "execute_result"
    }
   ],
   "source": [
    "a|b|c"
   ]
  },
  {
   "cell_type": "code",
   "execution_count": 32,
   "id": "eb6eaaf5-7537-4562-a96c-134ed6b290b2",
   "metadata": {},
   "outputs": [],
   "source": [
    "a={1,2,3,4,5}\n",
    "b={4,5,6,7,8}\n",
    "c={8,9,10}\n"
   ]
  },
  {
   "cell_type": "markdown",
   "id": "fd4ee986-9985-4b01-89b9-7d2a476a241b",
   "metadata": {},
   "source": [
    "# intersection"
   ]
  },
  {
   "cell_type": "code",
   "execution_count": 33,
   "id": "96f9f862-2a2d-479d-821f-2a9e235e31d8",
   "metadata": {},
   "outputs": [
    {
     "data": {
      "text/plain": [
       "{4, 5}"
      ]
     },
     "execution_count": 33,
     "metadata": {},
     "output_type": "execute_result"
    }
   ],
   "source": [
    "a.intersection(b)"
   ]
  },
  {
   "cell_type": "code",
   "execution_count": 34,
   "id": "fa9129fe-a9d1-458e-b21e-626a5f220624",
   "metadata": {},
   "outputs": [
    {
     "data": {
      "text/plain": [
       "{8}"
      ]
     },
     "execution_count": 34,
     "metadata": {},
     "output_type": "execute_result"
    }
   ],
   "source": [
    "b.intersection(c)"
   ]
  },
  {
   "cell_type": "code",
   "execution_count": 36,
   "id": "95434d69-6947-4c20-bc7b-7219b435a05b",
   "metadata": {},
   "outputs": [
    {
     "data": {
      "text/plain": [
       "{4, 5}"
      ]
     },
     "execution_count": 36,
     "metadata": {},
     "output_type": "execute_result"
    }
   ],
   "source": [
    "a & b"
   ]
  },
  {
   "cell_type": "code",
   "execution_count": 37,
   "id": "7bd57190-7bdf-49df-b5d3-a59e8c5cb535",
   "metadata": {},
   "outputs": [
    {
     "data": {
      "text/plain": [
       "{8}"
      ]
     },
     "execution_count": 37,
     "metadata": {},
     "output_type": "execute_result"
    }
   ],
   "source": [
    "b&c"
   ]
  },
  {
   "cell_type": "markdown",
   "id": "d40d0b39-84af-4efc-965f-3c3bfec8f043",
   "metadata": {},
   "source": [
    "# difference"
   ]
  },
  {
   "cell_type": "code",
   "execution_count": 38,
   "id": "256f5350-8589-42f1-a149-478c2be77a31",
   "metadata": {},
   "outputs": [],
   "source": [
    "a={1,2,3,4,5}\n",
    "b={4,5,6,7,8}\n",
    "c={8,9,10}"
   ]
  },
  {
   "cell_type": "code",
   "execution_count": 39,
   "id": "1c3cf81d-02f9-41c6-9781-b4619e6de5e8",
   "metadata": {},
   "outputs": [
    {
     "data": {
      "text/plain": [
       "{1, 2, 3}"
      ]
     },
     "execution_count": 39,
     "metadata": {},
     "output_type": "execute_result"
    }
   ],
   "source": [
    "a.difference(b)"
   ]
  },
  {
   "cell_type": "code",
   "execution_count": 40,
   "id": "23cc4d82-65fb-46f2-9045-c711e6fa0ac1",
   "metadata": {},
   "outputs": [
    {
     "data": {
      "text/plain": [
       "{4, 5, 6, 7}"
      ]
     },
     "execution_count": 40,
     "metadata": {},
     "output_type": "execute_result"
    }
   ],
   "source": [
    "b.difference(c)"
   ]
  },
  {
   "cell_type": "code",
   "execution_count": 41,
   "id": "03dd635b-0328-455a-9dcd-0478e6abd938",
   "metadata": {},
   "outputs": [
    {
     "data": {
      "text/plain": [
       "{4, 5, 6, 7}"
      ]
     },
     "execution_count": 41,
     "metadata": {},
     "output_type": "execute_result"
    }
   ],
   "source": [
    "b-c"
   ]
  },
  {
   "cell_type": "code",
   "execution_count": null,
   "id": "e4cd8e4d-efe5-4e9f-a544-b7d4b6bf9d67",
   "metadata": {},
   "outputs": [],
   "source": []
  }
 ],
 "metadata": {
  "kernelspec": {
   "display_name": "Python 3 (ipykernel)",
   "language": "python",
   "name": "python3"
  },
  "language_info": {
   "codemirror_mode": {
    "name": "ipython",
    "version": 3
   },
   "file_extension": ".py",
   "mimetype": "text/x-python",
   "name": "python",
   "nbconvert_exporter": "python",
   "pygments_lexer": "ipython3",
   "version": "3.13.5"
  }
 },
 "nbformat": 4,
 "nbformat_minor": 5
}
