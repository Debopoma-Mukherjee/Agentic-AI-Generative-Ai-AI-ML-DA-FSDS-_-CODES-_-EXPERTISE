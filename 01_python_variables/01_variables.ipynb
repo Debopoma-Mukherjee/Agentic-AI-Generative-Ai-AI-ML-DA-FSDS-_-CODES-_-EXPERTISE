{
 "cells": [
  {
   "cell_type": "markdown",
   "id": "03bc11a6-2f59-40d4-90d1-16a3e5273c32",
   "metadata": {},
   "source": [
    "# Static vs Dynamic\n",
    "### Python is a dynamic programming language"
   ]
  },
  {
   "cell_type": "code",
   "execution_count": 4,
   "id": "f5dbcebc-9331-4208-b7d9-3de17a7ac006",
   "metadata": {},
   "outputs": [
    {
     "data": {
      "text/plain": [
       "int"
      ]
     },
     "execution_count": 4,
     "metadata": {},
     "output_type": "execute_result"
    }
   ],
   "source": [
    "a=5\n",
    "type(a)"
   ]
  },
  {
   "cell_type": "code",
   "execution_count": 3,
   "id": "3e475b35-0e91-46d2-8849-6a729d3d3921",
   "metadata": {},
   "outputs": [
    {
     "data": {
      "text/plain": [
       "float"
      ]
     },
     "execution_count": 3,
     "metadata": {},
     "output_type": "execute_result"
    }
   ],
   "source": [
    "a=5.0\n",
    "type(a)"
   ]
  },
  {
   "cell_type": "markdown",
   "id": "4fd418eb-eb79-400b-90a8-5f844d8140ed",
   "metadata": {},
   "source": [
    "# To check the version of python"
   ]
  },
  {
   "cell_type": "code",
   "execution_count": 5,
   "id": "3e4ee2a9-ebc2-49a5-b494-51d77f6bd05b",
   "metadata": {},
   "outputs": [
    {
     "data": {
      "text/plain": [
       "'3.13.5 | packaged by Anaconda, Inc. | (main, Jun 12 2025, 16:37:03) [MSC v.1929 64 bit (AMD64)]'"
      ]
     },
     "execution_count": 5,
     "metadata": {},
     "output_type": "execute_result"
    }
   ],
   "source": [
    "import sys\n",
    "sys.version"
   ]
  },
  {
   "cell_type": "markdown",
   "id": "681b407c-5a0b-4b84-8210-acba342b2ba3",
   "metadata": {},
   "source": [
    "# Jupyter notebook extension is .ipynb"
   ]
  },
  {
   "cell_type": "markdown",
   "id": "e368339d-68ce-4b96-bb6b-eec269916d25",
   "metadata": {},
   "source": [
    "# Python variable =identifier=object\n",
    "# syntax(variable=value)"
   ]
  },
  {
   "cell_type": "code",
   "execution_count": 7,
   "id": "97e06bbc-88d0-4dbf-a576-c2da4b4bab4f",
   "metadata": {},
   "outputs": [
    {
     "data": {
      "text/plain": [
       "5"
      ]
     },
     "execution_count": 7,
     "metadata": {},
     "output_type": "execute_result"
    }
   ],
   "source": [
    "a=5 #a-variable(or identifier|object)\n",
    "    #5-value(or datatype)\n",
    "a"
   ]
  },
  {
   "cell_type": "markdown",
   "id": "4f325d84-2e7e-4f56-8161-d5097481c4a2",
   "metadata": {},
   "source": [
    "# Rules to declare python variable\n"
   ]
  },
  {
   "cell_type": "code",
   "execution_count": 10,
   "id": "087c5761-af19-4c96-a968-76c5dc253d01",
   "metadata": {},
   "outputs": [
    {
     "ename": "NameError",
     "evalue": "name 'VAR' is not defined",
     "output_type": "error",
     "traceback": [
      "\u001b[31m---------------------------------------------------------------------------\u001b[39m",
      "\u001b[31mNameError\u001b[39m                                 Traceback (most recent call last)",
      "\u001b[36mCell\u001b[39m\u001b[36m \u001b[39m\u001b[32mIn[10]\u001b[39m\u001b[32m, line 3\u001b[39m\n\u001b[32m      1\u001b[39m \u001b[38;5;66;03m#python variable is case sensitive\u001b[39;00m\n\u001b[32m      2\u001b[39m var=\u001b[32m8\u001b[39m\n\u001b[32m----> \u001b[39m\u001b[32m3\u001b[39m \u001b[43mVAR\u001b[49m\n\u001b[32m      4\u001b[39m var\n",
      "\u001b[31mNameError\u001b[39m: name 'VAR' is not defined"
     ]
    }
   ],
   "source": [
    "#python variable is case sensitive\n",
    "var=8\n",
    "VAR\n",
    "var"
   ]
  },
  {
   "cell_type": "code",
   "execution_count": 13,
   "id": "cd826738-7043-4edb-8852-b0e010ca278f",
   "metadata": {},
   "outputs": [
    {
     "ename": "SyntaxError",
     "evalue": "invalid syntax (2932589967.py, line 3)",
     "output_type": "error",
     "traceback": [
      "  \u001b[36mCell\u001b[39m\u001b[36m \u001b[39m\u001b[32mIn[13]\u001b[39m\u001b[32m, line 3\u001b[39m\n\u001b[31m    \u001b[39m\u001b[31mv@\u001b[39m\n      ^\n\u001b[31mSyntaxError\u001b[39m\u001b[31m:\u001b[39m invalid syntax\n"
     ]
    }
   ],
   "source": [
    "# special symbols not allowed except for _\n",
    "v@=16\n",
    "v@"
   ]
  },
  {
   "cell_type": "code",
   "execution_count": 14,
   "id": "33be8460-6e4b-4f54-b302-2b011ea4b3a0",
   "metadata": {},
   "outputs": [
    {
     "data": {
      "text/plain": [
       "20"
      ]
     },
     "execution_count": 14,
     "metadata": {},
     "output_type": "execute_result"
    }
   ],
   "source": [
    "v_=20\n",
    "v_"
   ]
  },
  {
   "cell_type": "code",
   "execution_count": 16,
   "id": "84e89d35-4597-44aa-8733-91bad9080cc9",
   "metadata": {},
   "outputs": [
    {
     "ename": "SyntaxError",
     "evalue": "invalid decimal literal (2351087070.py, line 2)",
     "output_type": "error",
     "traceback": [
      "  \u001b[36mCell\u001b[39m\u001b[36m \u001b[39m\u001b[32mIn[16]\u001b[39m\u001b[32m, line 2\u001b[39m\n\u001b[31m    \u001b[39m\u001b[31m1var=25\u001b[39m\n    ^\n\u001b[31mSyntaxError\u001b[39m\u001b[31m:\u001b[39m invalid decimal literal\n"
     ]
    }
   ],
   "source": [
    "#variables does not start with digit\n",
    "1var=25\n",
    "1var"
   ]
  },
  {
   "cell_type": "code",
   "execution_count": 17,
   "id": "9d3a0320-ed5f-4105-8bb9-c52375ff441a",
   "metadata": {},
   "outputs": [
    {
     "data": {
      "text/plain": [
       "8"
      ]
     },
     "execution_count": 17,
     "metadata": {},
     "output_type": "execute_result"
    }
   ],
   "source": [
    "# variables can end with number\n",
    "var1=8\n",
    "var1"
   ]
  },
  {
   "cell_type": "code",
   "execution_count": 18,
   "id": "3ecb8872-0724-4e3c-a36f-0cdd1e82e8cc",
   "metadata": {},
   "outputs": [
    {
     "ename": "SyntaxError",
     "evalue": "cannot assign to literal here. Maybe you meant '==' instead of '='? (2785366911.py, line 1)",
     "output_type": "error",
     "traceback": [
      "  \u001b[36mCell\u001b[39m\u001b[36m \u001b[39m\u001b[32mIn[18]\u001b[39m\u001b[32m, line 1\u001b[39m\n\u001b[31m    \u001b[39m\u001b[31m'1var'=9\u001b[39m\n    ^\n\u001b[31mSyntaxError\u001b[39m\u001b[31m:\u001b[39m cannot assign to literal here. Maybe you meant '==' instead of '='?\n"
     ]
    }
   ],
   "source": [
    "'1var'=9"
   ]
  },
  {
   "cell_type": "code",
   "execution_count": 23,
   "id": "b0278672-5836-4827-be7e-e2f88f6cefd0",
   "metadata": {},
   "outputs": [
    {
     "name": "stdout",
     "output_type": "stream",
     "text": [
      "['False', 'None', 'True', 'and', 'as', 'assert', 'async', 'await', 'break', 'class', 'continue', 'def', 'del', 'elif', 'else', 'except', 'finally', 'for', 'from', 'global', 'if', 'import', 'in', 'is', 'lambda', 'nonlocal', 'not', 'or', 'pass', 'raise', 'return', 'try', 'while', 'with', 'yield']\n"
     ]
    },
    {
     "data": {
      "text/plain": [
       "35"
      ]
     },
     "execution_count": 23,
     "metadata": {},
     "output_type": "execute_result"
    }
   ],
   "source": [
    "#keyword or reserved words cannot be names of variable\n",
    "import keyword\n",
    "print(keyword.kwlist)\n",
    "len(keyword.kwlist)"
   ]
  },
  {
   "cell_type": "code",
   "execution_count": 24,
   "id": "844c7d02-e8d2-4f2c-9f2b-7e0869bcbcf9",
   "metadata": {},
   "outputs": [
    {
     "ename": "SyntaxError",
     "evalue": "invalid syntax (633994889.py, line 1)",
     "output_type": "error",
     "traceback": [
      "  \u001b[36mCell\u001b[39m\u001b[36m \u001b[39m\u001b[32mIn[24]\u001b[39m\u001b[32m, line 1\u001b[39m\n\u001b[31m    \u001b[39m\u001b[31mfor=8\u001b[39m\n       ^\n\u001b[31mSyntaxError\u001b[39m\u001b[31m:\u001b[39m invalid syntax\n"
     ]
    }
   ],
   "source": [
    "for=8"
   ]
  },
  {
   "cell_type": "code",
   "execution_count": 25,
   "id": "5573772c-38ee-4c62-b5c8-7f5b213ef649",
   "metadata": {},
   "outputs": [
    {
     "ename": "SyntaxError",
     "evalue": "invalid syntax (692514177.py, line 1)",
     "output_type": "error",
     "traceback": [
      "  \u001b[36mCell\u001b[39m\u001b[36m \u001b[39m\u001b[32mIn[25]\u001b[39m\u001b[32m, line 1\u001b[39m\n\u001b[31m    \u001b[39m\u001b[31mdef=79\u001b[39m\n       ^\n\u001b[31mSyntaxError\u001b[39m\u001b[31m:\u001b[39m invalid syntax\n"
     ]
    }
   ],
   "source": [
    "def=79"
   ]
  },
  {
   "cell_type": "markdown",
   "id": "5ed93432-6f65-4f72-ba6c-5a16f4e6272c",
   "metadata": {},
   "source": [
    "# Python datatypes\n",
    "# 1)integer-value without decimal\n",
    "# 2)float-value with decimal.Only e is allowed\n",
    "# 3)complex\n",
    "# 4)string"
   ]
  },
  {
   "cell_type": "code",
   "execution_count": 8,
   "id": "fb6e59e4-673d-4eab-9612-0ead77918c35",
   "metadata": {},
   "outputs": [
    {
     "data": {
      "text/plain": [
       "int"
      ]
     },
     "execution_count": 8,
     "metadata": {},
     "output_type": "execute_result"
    }
   ],
   "source": [
    "i=5\n",
    "type(i)"
   ]
  },
  {
   "cell_type": "code",
   "execution_count": 9,
   "id": "7ceb624d-b29e-40af-8d7c-2a706df610c9",
   "metadata": {},
   "outputs": [
    {
     "data": {
      "text/plain": [
       "float"
      ]
     },
     "execution_count": 9,
     "metadata": {},
     "output_type": "execute_result"
    }
   ],
   "source": [
    "f=110.5\n",
    "type(f)"
   ]
  },
  {
   "cell_type": "code",
   "execution_count": 10,
   "id": "42e823b3-d06c-455b-a488-15bc67718b9c",
   "metadata": {},
   "outputs": [
    {
     "name": "stdout",
     "output_type": "stream",
     "text": [
      "5\n",
      "110.5\n"
     ]
    }
   ],
   "source": [
    "i\n",
    "f\n",
    "# on writing f i disappears hence we use print fn to print more than one output\n",
    "print(i)\n",
    "print(f)"
   ]
  },
  {
   "cell_type": "code",
   "execution_count": 11,
   "id": "f11a3be8-cf8b-40c8-a31b-48f1a4bd648e",
   "metadata": {},
   "outputs": [
    {
     "data": {
      "text/plain": [
       "115.5"
      ]
     },
     "execution_count": 11,
     "metadata": {},
     "output_type": "execute_result"
    }
   ],
   "source": [
    "i+f"
   ]
  },
  {
   "cell_type": "code",
   "execution_count": 12,
   "id": "c88fcb39-2f60-402e-b3d4-2c5aa19ba90e",
   "metadata": {},
   "outputs": [
    {
     "data": {
      "text/plain": [
       "-105.5"
      ]
     },
     "execution_count": 12,
     "metadata": {},
     "output_type": "execute_result"
    }
   ],
   "source": [
    "i-f"
   ]
  },
  {
   "cell_type": "code",
   "execution_count": 2,
   "id": "af3a7a29-707c-44cb-b8ce-5151f1dd4356",
   "metadata": {},
   "outputs": [
    {
     "data": {
      "text/plain": [
       "1.0"
      ]
     },
     "execution_count": 2,
     "metadata": {},
     "output_type": "execute_result"
    }
   ],
   "source": [
    "f=1e0 #e for exponential .Only e is allowed.\n",
    "f"
   ]
  },
  {
   "cell_type": "code",
   "execution_count": 1,
   "id": "1e266c04-7b87-45be-ac2e-b3abcfbc6f5c",
   "metadata": {},
   "outputs": [
    {
     "data": {
      "text/plain": [
       "20.0"
      ]
     },
     "execution_count": 1,
     "metadata": {},
     "output_type": "execute_result"
    }
   ],
   "source": [
    "f1=2e1\n",
    "f1"
   ]
  },
  {
   "cell_type": "code",
   "execution_count": 4,
   "id": "d847c07b-02b3-4177-968e-e6396b9acdef",
   "metadata": {},
   "outputs": [
    {
     "data": {
      "text/plain": [
       "2500.0"
      ]
     },
     "execution_count": 4,
     "metadata": {},
     "output_type": "execute_result"
    }
   ],
   "source": [
    "f2=2.5e3\n",
    "f2"
   ]
  },
  {
   "cell_type": "markdown",
   "id": "e553060c-9722-44dd-bcdf-b714850abade",
   "metadata": {},
   "source": [
    "# bool"
   ]
  },
  {
   "cell_type": "code",
   "execution_count": 15,
   "id": "bb51f33d-1a8e-4dcc-af91-4f2d43b69f3e",
   "metadata": {},
   "outputs": [
    {
     "data": {
      "text/plain": [
       "True"
      ]
     },
     "execution_count": 15,
     "metadata": {},
     "output_type": "execute_result"
    }
   ],
   "source": [
    "True\n"
   ]
  },
  {
   "cell_type": "code",
   "execution_count": 16,
   "id": "c8a9fa06-e4f2-4528-a937-3e2062a847fd",
   "metadata": {},
   "outputs": [
    {
     "data": {
      "text/plain": [
       "False"
      ]
     },
     "execution_count": 16,
     "metadata": {},
     "output_type": "execute_result"
    }
   ],
   "source": [
    "False"
   ]
  },
  {
   "cell_type": "code",
   "execution_count": 17,
   "id": "37139008-f781-48e5-b5e1-ef8874c3ca79",
   "metadata": {},
   "outputs": [
    {
     "data": {
      "text/plain": [
       "1"
      ]
     },
     "execution_count": 17,
     "metadata": {},
     "output_type": "execute_result"
    }
   ],
   "source": [
    "True+False"
   ]
  },
  {
   "cell_type": "code",
   "execution_count": 18,
   "id": "4408ca6a-7999-4dba-bc35-5162d412b2e6",
   "metadata": {},
   "outputs": [
    {
     "data": {
      "text/plain": [
       "0"
      ]
     },
     "execution_count": 18,
     "metadata": {},
     "output_type": "execute_result"
    }
   ],
   "source": [
    "True*False"
   ]
  },
  {
   "cell_type": "code",
   "execution_count": 20,
   "id": "5bd67cd1-07c3-49ef-ab83-2bd591a31574",
   "metadata": {},
   "outputs": [
    {
     "data": {
      "text/plain": [
       "0.0"
      ]
     },
     "execution_count": 20,
     "metadata": {},
     "output_type": "execute_result"
    }
   ],
   "source": [
    "False/True\n"
   ]
  },
  {
   "cell_type": "code",
   "execution_count": 21,
   "id": "1ab3e818-948b-491a-b6a7-37b0da369c30",
   "metadata": {},
   "outputs": [
    {
     "data": {
      "text/plain": [
       "1"
      ]
     },
     "execution_count": 21,
     "metadata": {},
     "output_type": "execute_result"
    }
   ],
   "source": [
    "True-False"
   ]
  },
  {
   "cell_type": "code",
   "execution_count": 22,
   "id": "90f4d3e0-a07d-4a42-87ab-bae1578e893c",
   "metadata": {},
   "outputs": [
    {
     "data": {
      "text/plain": [
       "-1"
      ]
     },
     "execution_count": 22,
     "metadata": {},
     "output_type": "execute_result"
    }
   ],
   "source": [
    "False-True"
   ]
  },
  {
   "cell_type": "code",
   "execution_count": 23,
   "id": "bb68a8e7-fc8c-4f54-85d4-42aee0489f19",
   "metadata": {},
   "outputs": [
    {
     "data": {
      "text/plain": [
       "1"
      ]
     },
     "execution_count": 23,
     "metadata": {},
     "output_type": "execute_result"
    }
   ],
   "source": [
    "True//True"
   ]
  },
  {
   "cell_type": "markdown",
   "id": "42bd1d2e-88fa-405a-8ad6-77a8e272c6d5",
   "metadata": {},
   "source": [
    "# String\n",
    "# string always declared with '' or \"\" or \"\"\"\"\"\""
   ]
  },
  {
   "cell_type": "code",
   "execution_count": 25,
   "id": "e59dfbe4-46c0-4d9d-97b4-956f62f0249f",
   "metadata": {},
   "outputs": [
    {
     "ename": "NameError",
     "evalue": "name 'hello' is not defined",
     "output_type": "error",
     "traceback": [
      "\u001b[31m---------------------------------------------------------------------------\u001b[39m",
      "\u001b[31mNameError\u001b[39m                                 Traceback (most recent call last)",
      "\u001b[36mCell\u001b[39m\u001b[36m \u001b[39m\u001b[32mIn[25]\u001b[39m\u001b[32m, line 1\u001b[39m\n\u001b[32m----> \u001b[39m\u001b[32m1\u001b[39m s=\u001b[43mhello\u001b[49m\n",
      "\u001b[31mNameError\u001b[39m: name 'hello' is not defined"
     ]
    }
   ],
   "source": [
    "s=hello"
   ]
  },
  {
   "cell_type": "code",
   "execution_count": 28,
   "id": "4d18d61c-4b78-4b87-ad6f-3b3298eaa9b7",
   "metadata": {},
   "outputs": [
    {
     "data": {
      "text/plain": [
       "'hello'"
      ]
     },
     "execution_count": 28,
     "metadata": {},
     "output_type": "execute_result"
    }
   ],
   "source": [
    "s='hello'\n",
    "s"
   ]
  },
  {
   "cell_type": "code",
   "execution_count": 30,
   "id": "23632f91-5689-4327-a423-68fa8bf2aa3b",
   "metadata": {},
   "outputs": [
    {
     "data": {
      "text/plain": [
       "'hello'"
      ]
     },
     "execution_count": 30,
     "metadata": {},
     "output_type": "execute_result"
    }
   ],
   "source": [
    "s=\"hello\"\n",
    "s"
   ]
  },
  {
   "cell_type": "code",
   "execution_count": 32,
   "id": "409b6ce1-1c85-4e05-9e0a-af24d8270200",
   "metadata": {},
   "outputs": [
    {
     "data": {
      "text/plain": [
       "'hello'"
      ]
     },
     "execution_count": 32,
     "metadata": {},
     "output_type": "execute_result"
    }
   ],
   "source": [
    "s3='''hello'''\n",
    "s3"
   ]
  },
  {
   "cell_type": "code",
   "execution_count": 33,
   "id": "cb8f1b05-802d-4014-bcea-aeb82836fa47",
   "metadata": {},
   "outputs": [
    {
     "ename": "SyntaxError",
     "evalue": "unterminated string literal (detected at line 1) (3303959297.py, line 1)",
     "output_type": "error",
     "traceback": [
      "  \u001b[36mCell\u001b[39m\u001b[36m \u001b[39m\u001b[32mIn[33]\u001b[39m\u001b[32m, line 1\u001b[39m\n\u001b[31m    \u001b[39m\u001b[31ms='hello\u001b[39m\n      ^\n\u001b[31mSyntaxError\u001b[39m\u001b[31m:\u001b[39m unterminated string literal (detected at line 1)\n"
     ]
    }
   ],
   "source": [
    "s='hello\n",
    "    team'\n",
    "s"
   ]
  },
  {
   "cell_type": "code",
   "execution_count": 35,
   "id": "8841d4b5-4b12-4ea1-846c-32aab9a3133e",
   "metadata": {},
   "outputs": [
    {
     "data": {
      "text/plain": [
       "'hello\\n     team'"
      ]
     },
     "execution_count": 35,
     "metadata": {},
     "output_type": "execute_result"
    }
   ],
   "source": [
    "s='''hello\n",
    "     team'''\n",
    "s"
   ]
  },
  {
   "cell_type": "markdown",
   "id": "f8fb4332-e5b9-4dfd-81d2-224cfb8b21bd",
   "metadata": {},
   "source": [
    "# Complex"
   ]
  },
  {
   "cell_type": "code",
   "execution_count": 37,
   "id": "2361f1a5-fb08-417d-9a82-7d0bf400ba88",
   "metadata": {},
   "outputs": [
    {
     "data": {
      "text/plain": [
       "(10+20j)"
      ]
     },
     "execution_count": 37,
     "metadata": {},
     "output_type": "execute_result"
    }
   ],
   "source": [
    "c=10+20j\n",
    "c"
   ]
  },
  {
   "cell_type": "code",
   "execution_count": 38,
   "id": "9409414b-db12-4e6e-8cb8-580812a9c329",
   "metadata": {},
   "outputs": [
    {
     "data": {
      "text/plain": [
       "10.0"
      ]
     },
     "execution_count": 38,
     "metadata": {},
     "output_type": "execute_result"
    }
   ],
   "source": [
    "c.real"
   ]
  },
  {
   "cell_type": "code",
   "execution_count": 39,
   "id": "8d6c54fe-c990-4d2a-8029-885819aefd53",
   "metadata": {},
   "outputs": [
    {
     "data": {
      "text/plain": [
       "20.0"
      ]
     },
     "execution_count": 39,
     "metadata": {},
     "output_type": "execute_result"
    }
   ],
   "source": [
    "c.imag"
   ]
  },
  {
   "cell_type": "code",
   "execution_count": 42,
   "id": "1e041c0d-85ad-4fb3-bb81-3c7b72969060",
   "metadata": {},
   "outputs": [
    {
     "name": "stdout",
     "output_type": "stream",
     "text": [
      "(30+50j)\n",
      "(-10-10j)\n",
      "(-400+700j)\n"
     ]
    }
   ],
   "source": [
    "c=10+20j\n",
    "d=20+30j\n",
    "print(c+d)\n",
    "print(c-d)\n",
    "print(c*d)"
   ]
  },
  {
   "cell_type": "markdown",
   "id": "9aa5cad3-3e77-405f-b478-590ba6fe47b7",
   "metadata": {},
   "source": [
    "# Python interpreter\n",
    "## Run or execute the code line by line or part of the code\n",
    "# Python compiler\n",
    "## Entire code run at once\n",
    "# Python is both(interpreter or compiler) both programming language"
   ]
  },
  {
   "cell_type": "markdown",
   "id": "7d55f97e-f958-418a-ae34-194d9e4c994a",
   "metadata": {},
   "source": [
    "# IDE(Integrated development environment)\n",
    "## using ide user or developer can run the code,write the code,fix the error\n",
    "## Eg:vscode,pycharm"
   ]
  },
  {
   "cell_type": "markdown",
   "id": "3b944fcf-87f8-4c29-9292-581da37bcf83",
   "metadata": {},
   "source": [
    "# Indexing\n",
    "## Forward Indexing\n",
    "### left index to right index(start from 0)\n",
    "### right index to left index(start from n)"
   ]
  },
  {
   "cell_type": "code",
   "execution_count": 5,
   "id": "6325e187-e7f5-4777-97ed-00e35a0ee44b",
   "metadata": {},
   "outputs": [
    {
     "data": {
      "text/plain": [
       "'hello'"
      ]
     },
     "execution_count": 5,
     "metadata": {},
     "output_type": "execute_result"
    }
   ],
   "source": [
    "str='hello'\n",
    "str\n"
   ]
  },
  {
   "cell_type": "code",
   "execution_count": 6,
   "id": "29bc34ad-e6e8-4813-9a6d-29aefa96bdfe",
   "metadata": {},
   "outputs": [
    {
     "data": {
      "text/plain": [
       "'h'"
      ]
     },
     "execution_count": 6,
     "metadata": {},
     "output_type": "execute_result"
    }
   ],
   "source": [
    "str[0]"
   ]
  },
  {
   "cell_type": "code",
   "execution_count": 7,
   "id": "e9783a02-b0b4-43a2-9ac7-2e4d43608146",
   "metadata": {},
   "outputs": [
    {
     "data": {
      "text/plain": [
       "'e'"
      ]
     },
     "execution_count": 7,
     "metadata": {},
     "output_type": "execute_result"
    }
   ],
   "source": [
    "str[1]"
   ]
  },
  {
   "cell_type": "code",
   "execution_count": 9,
   "id": "6cf85b50-4e4c-42d9-868d-67522d3f0357",
   "metadata": {},
   "outputs": [
    {
     "name": "stdout",
     "output_type": "stream",
     "text": [
      "h\n",
      "e\n",
      "l\n"
     ]
    }
   ],
   "source": [
    "print(str[0])\n",
    "print(str[1])\n",
    "print(str[2])"
   ]
  },
  {
   "cell_type": "code",
   "execution_count": 10,
   "id": "f75d42c5-e998-4f82-8f0c-a5295a08f5aa",
   "metadata": {},
   "outputs": [
    {
     "name": "stdout",
     "output_type": "stream",
     "text": [
      "o\n",
      "l\n",
      "l\n"
     ]
    }
   ],
   "source": [
    "print(str[-1])\n",
    "print(str[-2])\n",
    "print(str[-3])"
   ]
  },
  {
   "cell_type": "code",
   "execution_count": 11,
   "id": "c9b50109-8505-4e44-bcca-bd1a772cc7b7",
   "metadata": {},
   "outputs": [
    {
     "data": {
      "text/plain": [
       "5"
      ]
     },
     "execution_count": 11,
     "metadata": {},
     "output_type": "execute_result"
    }
   ],
   "source": [
    "len(str)\n"
   ]
  },
  {
   "cell_type": "markdown",
   "id": "2f281e07-ed33-4bb9-b4f4-04418e2f7c0f",
   "metadata": {},
   "source": [
    "# Slicing\n",
    "## 1)Foward slicing\n",
    "## 2)backward slicing\n",
    "## 3)step slicing"
   ]
  },
  {
   "cell_type": "code",
   "execution_count": 13,
   "id": "6726fef1-6f9e-4d4f-87e6-202540e9486f",
   "metadata": {},
   "outputs": [
    {
     "data": {
      "text/plain": [
       "'el'"
      ]
     },
     "execution_count": 13,
     "metadata": {},
     "output_type": "execute_result"
    }
   ],
   "source": [
    "str[1:3]"
   ]
  },
  {
   "cell_type": "code",
   "execution_count": 14,
   "id": "aff9e535-2fc4-4c0d-ac80-7a6ed6619245",
   "metadata": {},
   "outputs": [
    {
     "data": {
      "text/plain": [
       "'hell'"
      ]
     },
     "execution_count": 14,
     "metadata": {},
     "output_type": "execute_result"
    }
   ],
   "source": [
    "str[0:4]"
   ]
  },
  {
   "cell_type": "code",
   "execution_count": 15,
   "id": "8152192a-306a-4e4b-82aa-65083681abde",
   "metadata": {},
   "outputs": [],
   "source": [
    "s='hellopython'"
   ]
  },
  {
   "cell_type": "code",
   "execution_count": 17,
   "id": "8d954ccc-d7b0-47b7-99c1-634c5ba6f26b",
   "metadata": {},
   "outputs": [
    {
     "data": {
      "text/plain": [
       "'hellop'"
      ]
     },
     "execution_count": 17,
     "metadata": {},
     "output_type": "execute_result"
    }
   ],
   "source": [
    "s[0:6]\n"
   ]
  },
  {
   "cell_type": "code",
   "execution_count": 18,
   "id": "4fe967a0-2f3c-41eb-9ba6-24dece40fc7f",
   "metadata": {},
   "outputs": [
    {
     "data": {
      "text/plain": [
       "'hlyo'"
      ]
     },
     "execution_count": 18,
     "metadata": {},
     "output_type": "execute_result"
    }
   ],
   "source": [
    "s[0:10:3]"
   ]
  },
  {
   "cell_type": "code",
   "execution_count": 19,
   "id": "a931de3c-a93f-4471-9405-0b88d6ffbd45",
   "metadata": {},
   "outputs": [
    {
     "data": {
      "text/plain": [
       "'elpt'"
      ]
     },
     "execution_count": 19,
     "metadata": {},
     "output_type": "execute_result"
    }
   ],
   "source": [
    "s[1:8:2]"
   ]
  },
  {
   "cell_type": "code",
   "execution_count": 20,
   "id": "1ac79c8c-a99a-42e6-8ab5-6324872457d9",
   "metadata": {},
   "outputs": [
    {
     "data": {
      "text/plain": [
       "'hellopython'"
      ]
     },
     "execution_count": 20,
     "metadata": {},
     "output_type": "execute_result"
    }
   ],
   "source": [
    "s[::1]"
   ]
  },
  {
   "cell_type": "code",
   "execution_count": 21,
   "id": "53c0cf4f-a76f-4b1b-84ec-4bbbfc40fc7e",
   "metadata": {},
   "outputs": [
    {
     "data": {
      "text/plain": [
       "'hloyhn'"
      ]
     },
     "execution_count": 21,
     "metadata": {},
     "output_type": "execute_result"
    }
   ],
   "source": [
    "s[::2]"
   ]
  },
  {
   "cell_type": "code",
   "execution_count": 22,
   "id": "4a29eb52-a185-4e4d-aa6e-771895b23379",
   "metadata": {},
   "outputs": [
    {
     "name": "stdout",
     "output_type": "stream",
     "text": [
      "helloh1\n"
     ]
    }
   ],
   "source": [
    "s3='hello'\n",
    "s4='h1'\n",
    "print(s3+s4)"
   ]
  },
  {
   "cell_type": "code",
   "execution_count": null,
   "id": "d017bb32-643f-4f40-a99a-ad82361c5a7c",
   "metadata": {},
   "outputs": [],
   "source": []
  }
 ],
 "metadata": {
  "kernelspec": {
   "display_name": "Python 3 (ipykernel)",
   "language": "python",
   "name": "python3"
  },
  "language_info": {
   "codemirror_mode": {
    "name": "ipython",
    "version": 3
   },
   "file_extension": ".py",
   "mimetype": "text/x-python",
   "name": "python",
   "nbconvert_exporter": "python",
   "pygments_lexer": "ipython3",
   "version": "3.13.5"
  }
 },
 "nbformat": 4,
 "nbformat_minor": 5
}
